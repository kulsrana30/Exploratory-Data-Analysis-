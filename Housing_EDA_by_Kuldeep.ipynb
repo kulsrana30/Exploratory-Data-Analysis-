{
 "cells": [
  {
   "cell_type": "markdown",
   "id": "27d8364d",
   "metadata": {},
   "source": [
    "# Step 1:-import libraries"
   ]
  },
  {
   "cell_type": "code",
   "execution_count": 351,
   "id": "616a3022",
   "metadata": {},
   "outputs": [],
   "source": [
    "\n",
    "import numpy as np\n",
    "import pandas as pd\n",
    "import seaborn as sns\n",
    "import matplotlib.pyplot as plt\n",
    "import warnings\n",
    "warnings.filterwarnings('ignore')"
   ]
  },
  {
   "cell_type": "markdown",
   "id": "a1615ee5",
   "metadata": {},
   "source": [
    "# Step:-2 & 3 Importing and explroing data"
   ]
  },
  {
   "cell_type": "code",
   "execution_count": 352,
   "id": "6ed1f8c0",
   "metadata": {},
   "outputs": [],
   "source": [
    "data=pd.read_csv(\"housing data.csv\")"
   ]
  },
  {
   "cell_type": "code",
   "execution_count": 353,
   "id": "b7ddb0e7",
   "metadata": {},
   "outputs": [
    {
     "data": {
      "text/plain": [
       "pandas.core.frame.DataFrame"
      ]
     },
     "execution_count": 353,
     "metadata": {},
     "output_type": "execute_result"
    }
   ],
   "source": [
    "type(data)"
   ]
  },
  {
   "cell_type": "code",
   "execution_count": 354,
   "id": "1be71264",
   "metadata": {
    "scrolled": true
   },
   "outputs": [
    {
     "data": {
      "text/html": [
       "<div>\n",
       "<style scoped>\n",
       "    .dataframe tbody tr th:only-of-type {\n",
       "        vertical-align: middle;\n",
       "    }\n",
       "\n",
       "    .dataframe tbody tr th {\n",
       "        vertical-align: top;\n",
       "    }\n",
       "\n",
       "    .dataframe thead th {\n",
       "        text-align: right;\n",
       "    }\n",
       "</style>\n",
       "<table border=\"1\" class=\"dataframe\">\n",
       "  <thead>\n",
       "    <tr style=\"text-align: right;\">\n",
       "      <th></th>\n",
       "      <th>Id</th>\n",
       "      <th>OverallQual</th>\n",
       "      <th>YearBuilt</th>\n",
       "      <th>TotalBsmtSF</th>\n",
       "      <th>Electrical</th>\n",
       "      <th>GrLivArea</th>\n",
       "      <th>FullBath</th>\n",
       "      <th>GarageType</th>\n",
       "      <th>GarageCars</th>\n",
       "      <th>GarageArea</th>\n",
       "      <th>Fence</th>\n",
       "      <th>MiscFeature</th>\n",
       "      <th>SalePrice</th>\n",
       "    </tr>\n",
       "  </thead>\n",
       "  <tbody>\n",
       "    <tr>\n",
       "      <th>0</th>\n",
       "      <td>1</td>\n",
       "      <td>7</td>\n",
       "      <td>2003</td>\n",
       "      <td>856</td>\n",
       "      <td>SBrkr</td>\n",
       "      <td>1710</td>\n",
       "      <td>2</td>\n",
       "      <td>Attchd</td>\n",
       "      <td>2</td>\n",
       "      <td>548</td>\n",
       "      <td>NaN</td>\n",
       "      <td>NaN</td>\n",
       "      <td>208500</td>\n",
       "    </tr>\n",
       "    <tr>\n",
       "      <th>1</th>\n",
       "      <td>2</td>\n",
       "      <td>6</td>\n",
       "      <td>1976</td>\n",
       "      <td>1262</td>\n",
       "      <td>SBrkr</td>\n",
       "      <td>1262</td>\n",
       "      <td>2</td>\n",
       "      <td>Attchd</td>\n",
       "      <td>2</td>\n",
       "      <td>460</td>\n",
       "      <td>NaN</td>\n",
       "      <td>NaN</td>\n",
       "      <td>181500</td>\n",
       "    </tr>\n",
       "    <tr>\n",
       "      <th>2</th>\n",
       "      <td>3</td>\n",
       "      <td>7</td>\n",
       "      <td>2001</td>\n",
       "      <td>920</td>\n",
       "      <td>SBrkr</td>\n",
       "      <td>1786</td>\n",
       "      <td>2</td>\n",
       "      <td>Attchd</td>\n",
       "      <td>2</td>\n",
       "      <td>608</td>\n",
       "      <td>NaN</td>\n",
       "      <td>NaN</td>\n",
       "      <td>223500</td>\n",
       "    </tr>\n",
       "    <tr>\n",
       "      <th>3</th>\n",
       "      <td>4</td>\n",
       "      <td>7</td>\n",
       "      <td>1915</td>\n",
       "      <td>756</td>\n",
       "      <td>SBrkr</td>\n",
       "      <td>1717</td>\n",
       "      <td>1</td>\n",
       "      <td>Detchd</td>\n",
       "      <td>3</td>\n",
       "      <td>642</td>\n",
       "      <td>NaN</td>\n",
       "      <td>NaN</td>\n",
       "      <td>140000</td>\n",
       "    </tr>\n",
       "    <tr>\n",
       "      <th>4</th>\n",
       "      <td>5</td>\n",
       "      <td>8</td>\n",
       "      <td>2000</td>\n",
       "      <td>1145</td>\n",
       "      <td>SBrkr</td>\n",
       "      <td>2198</td>\n",
       "      <td>2</td>\n",
       "      <td>Attchd</td>\n",
       "      <td>3</td>\n",
       "      <td>836</td>\n",
       "      <td>NaN</td>\n",
       "      <td>NaN</td>\n",
       "      <td>250000</td>\n",
       "    </tr>\n",
       "    <tr>\n",
       "      <th>5</th>\n",
       "      <td>6</td>\n",
       "      <td>5</td>\n",
       "      <td>1993</td>\n",
       "      <td>796</td>\n",
       "      <td>SBrkr</td>\n",
       "      <td>1362</td>\n",
       "      <td>1</td>\n",
       "      <td>Attchd</td>\n",
       "      <td>2</td>\n",
       "      <td>480</td>\n",
       "      <td>MnPrv</td>\n",
       "      <td>Shed</td>\n",
       "      <td>143000</td>\n",
       "    </tr>\n",
       "    <tr>\n",
       "      <th>6</th>\n",
       "      <td>7</td>\n",
       "      <td>8</td>\n",
       "      <td>2004</td>\n",
       "      <td>1686</td>\n",
       "      <td>SBrkr</td>\n",
       "      <td>1694</td>\n",
       "      <td>2</td>\n",
       "      <td>Attchd</td>\n",
       "      <td>2</td>\n",
       "      <td>636</td>\n",
       "      <td>NaN</td>\n",
       "      <td>NaN</td>\n",
       "      <td>307000</td>\n",
       "    </tr>\n",
       "    <tr>\n",
       "      <th>7</th>\n",
       "      <td>8</td>\n",
       "      <td>7</td>\n",
       "      <td>1973</td>\n",
       "      <td>1107</td>\n",
       "      <td>SBrkr</td>\n",
       "      <td>2090</td>\n",
       "      <td>2</td>\n",
       "      <td>Attchd</td>\n",
       "      <td>2</td>\n",
       "      <td>484</td>\n",
       "      <td>NaN</td>\n",
       "      <td>Shed</td>\n",
       "      <td>200000</td>\n",
       "    </tr>\n",
       "    <tr>\n",
       "      <th>8</th>\n",
       "      <td>9</td>\n",
       "      <td>5</td>\n",
       "      <td>1939</td>\n",
       "      <td>991</td>\n",
       "      <td>SBrkr</td>\n",
       "      <td>1077</td>\n",
       "      <td>1</td>\n",
       "      <td>NaN</td>\n",
       "      <td>1</td>\n",
       "      <td>205</td>\n",
       "      <td>NaN</td>\n",
       "      <td>NaN</td>\n",
       "      <td>118000</td>\n",
       "    </tr>\n",
       "    <tr>\n",
       "      <th>9</th>\n",
       "      <td>10</td>\n",
       "      <td>5</td>\n",
       "      <td>1965</td>\n",
       "      <td>1040</td>\n",
       "      <td>SBrkr</td>\n",
       "      <td>1040</td>\n",
       "      <td>1</td>\n",
       "      <td>Detchd</td>\n",
       "      <td>1</td>\n",
       "      <td>384</td>\n",
       "      <td>NaN</td>\n",
       "      <td>NaN</td>\n",
       "      <td>129500</td>\n",
       "    </tr>\n",
       "  </tbody>\n",
       "</table>\n",
       "</div>"
      ],
      "text/plain": [
       "   Id  OverallQual  YearBuilt  TotalBsmtSF Electrical  GrLivArea  FullBath  \\\n",
       "0   1            7       2003          856      SBrkr       1710         2   \n",
       "1   2            6       1976         1262      SBrkr       1262         2   \n",
       "2   3            7       2001          920      SBrkr       1786         2   \n",
       "3   4            7       1915          756      SBrkr       1717         1   \n",
       "4   5            8       2000         1145      SBrkr       2198         2   \n",
       "5   6            5       1993          796      SBrkr       1362         1   \n",
       "6   7            8       2004         1686      SBrkr       1694         2   \n",
       "7   8            7       1973         1107      SBrkr       2090         2   \n",
       "8   9            5       1939          991      SBrkr       1077         1   \n",
       "9  10            5       1965         1040      SBrkr       1040         1   \n",
       "\n",
       "  GarageType  GarageCars  GarageArea  Fence MiscFeature  SalePrice  \n",
       "0     Attchd           2         548    NaN         NaN     208500  \n",
       "1     Attchd           2         460    NaN         NaN     181500  \n",
       "2     Attchd           2         608    NaN         NaN     223500  \n",
       "3     Detchd           3         642    NaN         NaN     140000  \n",
       "4     Attchd           3         836    NaN         NaN     250000  \n",
       "5     Attchd           2         480  MnPrv        Shed     143000  \n",
       "6     Attchd           2         636    NaN         NaN     307000  \n",
       "7     Attchd           2         484    NaN        Shed     200000  \n",
       "8        NaN           1         205    NaN         NaN     118000  \n",
       "9     Detchd           1         384    NaN         NaN     129500  "
      ]
     },
     "execution_count": 354,
     "metadata": {},
     "output_type": "execute_result"
    }
   ],
   "source": [
    "data.head(10)"
   ]
  },
  {
   "cell_type": "code",
   "execution_count": 355,
   "id": "d87c7a03",
   "metadata": {},
   "outputs": [
    {
     "data": {
      "text/plain": [
       "Index(['Id', 'OverallQual', 'YearBuilt', 'TotalBsmtSF', 'Electrical',\n",
       "       'GrLivArea', 'FullBath', 'GarageType', 'GarageCars', 'GarageArea',\n",
       "       'Fence', 'MiscFeature', 'SalePrice'],\n",
       "      dtype='object')"
      ]
     },
     "execution_count": 355,
     "metadata": {},
     "output_type": "execute_result"
    }
   ],
   "source": [
    "data.columns"
   ]
  },
  {
   "cell_type": "code",
   "execution_count": 356,
   "id": "3c1dbb38",
   "metadata": {},
   "outputs": [
    {
     "name": "stdout",
     "output_type": "stream",
     "text": [
      "No of records :-  1418\n",
      "No of columns :-  13\n"
     ]
    }
   ],
   "source": [
    "print(\"No of records :- \",data.shape[0])\n",
    "print(\"No of columns :- \",data.shape[1])"
   ]
  },
  {
   "cell_type": "code",
   "execution_count": 357,
   "id": "4075fb53",
   "metadata": {},
   "outputs": [
    {
     "data": {
      "text/html": [
       "<div>\n",
       "<style scoped>\n",
       "    .dataframe tbody tr th:only-of-type {\n",
       "        vertical-align: middle;\n",
       "    }\n",
       "\n",
       "    .dataframe tbody tr th {\n",
       "        vertical-align: top;\n",
       "    }\n",
       "\n",
       "    .dataframe thead th {\n",
       "        text-align: right;\n",
       "    }\n",
       "</style>\n",
       "<table border=\"1\" class=\"dataframe\">\n",
       "  <thead>\n",
       "    <tr style=\"text-align: right;\">\n",
       "      <th></th>\n",
       "      <th>Id</th>\n",
       "      <th>OverallQual</th>\n",
       "      <th>YearBuilt</th>\n",
       "      <th>TotalBsmtSF</th>\n",
       "      <th>Electrical</th>\n",
       "      <th>GrLivArea</th>\n",
       "      <th>FullBath</th>\n",
       "      <th>GarageType</th>\n",
       "      <th>GarageCars</th>\n",
       "      <th>GarageArea</th>\n",
       "      <th>Fence</th>\n",
       "      <th>MiscFeature</th>\n",
       "      <th>SalePrice</th>\n",
       "    </tr>\n",
       "  </thead>\n",
       "  <tbody>\n",
       "    <tr>\n",
       "      <th>1408</th>\n",
       "      <td>1409</td>\n",
       "      <td>5</td>\n",
       "      <td>1974</td>\n",
       "      <td>896</td>\n",
       "      <td>SBrkr</td>\n",
       "      <td>1792</td>\n",
       "      <td>2</td>\n",
       "      <td>NaN</td>\n",
       "      <td>0</td>\n",
       "      <td>0</td>\n",
       "      <td>NaN</td>\n",
       "      <td>NaN</td>\n",
       "      <td>136000</td>\n",
       "    </tr>\n",
       "    <tr>\n",
       "      <th>1409</th>\n",
       "      <td>1410</td>\n",
       "      <td>8</td>\n",
       "      <td>2008</td>\n",
       "      <td>1573</td>\n",
       "      <td>SBrkr</td>\n",
       "      <td>1578</td>\n",
       "      <td>2</td>\n",
       "      <td>Attchd</td>\n",
       "      <td>3</td>\n",
       "      <td>840</td>\n",
       "      <td>NaN</td>\n",
       "      <td>NaN</td>\n",
       "      <td>287090</td>\n",
       "    </tr>\n",
       "    <tr>\n",
       "      <th>1410</th>\n",
       "      <td>1411</td>\n",
       "      <td>5</td>\n",
       "      <td>2005</td>\n",
       "      <td>547</td>\n",
       "      <td>SBrkr</td>\n",
       "      <td>1072</td>\n",
       "      <td>1</td>\n",
       "      <td>Basment</td>\n",
       "      <td>2</td>\n",
       "      <td>525</td>\n",
       "      <td>NaN</td>\n",
       "      <td>NaN</td>\n",
       "      <td>145000</td>\n",
       "    </tr>\n",
       "    <tr>\n",
       "      <th>1411</th>\n",
       "      <td>1412</td>\n",
       "      <td>5</td>\n",
       "      <td>2006</td>\n",
       "      <td>1140</td>\n",
       "      <td>SBrkr</td>\n",
       "      <td>1140</td>\n",
       "      <td>1</td>\n",
       "      <td>NaN</td>\n",
       "      <td>0</td>\n",
       "      <td>0</td>\n",
       "      <td>NaN</td>\n",
       "      <td>NaN</td>\n",
       "      <td>84500</td>\n",
       "    </tr>\n",
       "    <tr>\n",
       "      <th>1412</th>\n",
       "      <td>1413</td>\n",
       "      <td>7</td>\n",
       "      <td>2004</td>\n",
       "      <td>1221</td>\n",
       "      <td>SBrkr</td>\n",
       "      <td>1221</td>\n",
       "      <td>2</td>\n",
       "      <td>Attchd</td>\n",
       "      <td>2</td>\n",
       "      <td>400</td>\n",
       "      <td>NaN</td>\n",
       "      <td>NaN</td>\n",
       "      <td>185000</td>\n",
       "    </tr>\n",
       "    <tr>\n",
       "      <th>1413</th>\n",
       "      <td>1414</td>\n",
       "      <td>6</td>\n",
       "      <td>1999</td>\n",
       "      <td>953</td>\n",
       "      <td>SBrkr</td>\n",
       "      <td>1647</td>\n",
       "      <td>2</td>\n",
       "      <td>Attchd</td>\n",
       "      <td>2</td>\n",
       "      <td>460</td>\n",
       "      <td>NaN</td>\n",
       "      <td>NaN</td>\n",
       "      <td>175000</td>\n",
       "    </tr>\n",
       "    <tr>\n",
       "      <th>1414</th>\n",
       "      <td>1415</td>\n",
       "      <td>6</td>\n",
       "      <td>1978</td>\n",
       "      <td>1542</td>\n",
       "      <td>SBrkr</td>\n",
       "      <td>2073</td>\n",
       "      <td>2</td>\n",
       "      <td>Attchd</td>\n",
       "      <td>2</td>\n",
       "      <td>500</td>\n",
       "      <td>MnPrv</td>\n",
       "      <td>NaN</td>\n",
       "      <td>210000</td>\n",
       "    </tr>\n",
       "    <tr>\n",
       "      <th>1415</th>\n",
       "      <td>1416</td>\n",
       "      <td>7</td>\n",
       "      <td>1941</td>\n",
       "      <td>1152</td>\n",
       "      <td>SBrkr</td>\n",
       "      <td>2340</td>\n",
       "      <td>2</td>\n",
       "      <td>Attchd</td>\n",
       "      <td>1</td>\n",
       "      <td>252</td>\n",
       "      <td>GdPrv</td>\n",
       "      <td>Shed</td>\n",
       "      <td>266500</td>\n",
       "    </tr>\n",
       "    <tr>\n",
       "      <th>1416</th>\n",
       "      <td>1417</td>\n",
       "      <td>5</td>\n",
       "      <td>1950</td>\n",
       "      <td>1078</td>\n",
       "      <td>FuseA</td>\n",
       "      <td>1078</td>\n",
       "      <td>1</td>\n",
       "      <td>NaN</td>\n",
       "      <td>1</td>\n",
       "      <td>240</td>\n",
       "      <td>NaN</td>\n",
       "      <td>NaN</td>\n",
       "      <td>142125</td>\n",
       "    </tr>\n",
       "    <tr>\n",
       "      <th>1417</th>\n",
       "      <td>1418</td>\n",
       "      <td>5</td>\n",
       "      <td>1965</td>\n",
       "      <td>1256</td>\n",
       "      <td>SBrkr</td>\n",
       "      <td>1256</td>\n",
       "      <td>1</td>\n",
       "      <td>Attchd</td>\n",
       "      <td>1</td>\n",
       "      <td>276</td>\n",
       "      <td>NaN</td>\n",
       "      <td>NaN</td>\n",
       "      <td>147500</td>\n",
       "    </tr>\n",
       "  </tbody>\n",
       "</table>\n",
       "</div>"
      ],
      "text/plain": [
       "        Id  OverallQual  YearBuilt  TotalBsmtSF Electrical  GrLivArea  \\\n",
       "1408  1409            5       1974          896      SBrkr       1792   \n",
       "1409  1410            8       2008         1573      SBrkr       1578   \n",
       "1410  1411            5       2005          547      SBrkr       1072   \n",
       "1411  1412            5       2006         1140      SBrkr       1140   \n",
       "1412  1413            7       2004         1221      SBrkr       1221   \n",
       "1413  1414            6       1999          953      SBrkr       1647   \n",
       "1414  1415            6       1978         1542      SBrkr       2073   \n",
       "1415  1416            7       1941         1152      SBrkr       2340   \n",
       "1416  1417            5       1950         1078      FuseA       1078   \n",
       "1417  1418            5       1965         1256      SBrkr       1256   \n",
       "\n",
       "      FullBath GarageType  GarageCars  GarageArea  Fence MiscFeature  \\\n",
       "1408         2        NaN           0           0    NaN         NaN   \n",
       "1409         2     Attchd           3         840    NaN         NaN   \n",
       "1410         1    Basment           2         525    NaN         NaN   \n",
       "1411         1        NaN           0           0    NaN         NaN   \n",
       "1412         2     Attchd           2         400    NaN         NaN   \n",
       "1413         2     Attchd           2         460    NaN         NaN   \n",
       "1414         2     Attchd           2         500  MnPrv         NaN   \n",
       "1415         2     Attchd           1         252  GdPrv        Shed   \n",
       "1416         1        NaN           1         240    NaN         NaN   \n",
       "1417         1     Attchd           1         276    NaN         NaN   \n",
       "\n",
       "      SalePrice  \n",
       "1408     136000  \n",
       "1409     287090  \n",
       "1410     145000  \n",
       "1411      84500  \n",
       "1412     185000  \n",
       "1413     175000  \n",
       "1414     210000  \n",
       "1415     266500  \n",
       "1416     142125  \n",
       "1417     147500  "
      ]
     },
     "execution_count": 357,
     "metadata": {},
     "output_type": "execute_result"
    }
   ],
   "source": [
    "data.tail(10)"
   ]
  },
  {
   "cell_type": "code",
   "execution_count": 358,
   "id": "2dc81eac",
   "metadata": {},
   "outputs": [
    {
     "name": "stdout",
     "output_type": "stream",
     "text": [
      "<class 'pandas.core.frame.DataFrame'>\n",
      "RangeIndex: 1418 entries, 0 to 1417\n",
      "Data columns (total 13 columns):\n",
      " #   Column       Non-Null Count  Dtype \n",
      "---  ------       --------------  ----- \n",
      " 0   Id           1418 non-null   int64 \n",
      " 1   OverallQual  1418 non-null   int64 \n",
      " 2   YearBuilt    1418 non-null   int64 \n",
      " 3   TotalBsmtSF  1418 non-null   int64 \n",
      " 4   Electrical   1417 non-null   object\n",
      " 5   GrLivArea    1418 non-null   int64 \n",
      " 6   FullBath     1418 non-null   int64 \n",
      " 7   GarageType   1275 non-null   object\n",
      " 8   GarageCars   1418 non-null   int64 \n",
      " 9   GarageArea   1418 non-null   int64 \n",
      " 10  Fence        270 non-null    object\n",
      " 11  MiscFeature  52 non-null     object\n",
      " 12  SalePrice    1418 non-null   int64 \n",
      "dtypes: int64(9), object(4)\n",
      "memory usage: 144.1+ KB\n"
     ]
    }
   ],
   "source": [
    "data.info()"
   ]
  },
  {
   "cell_type": "markdown",
   "id": "36744354",
   "metadata": {},
   "source": [
    "### from the above info we can see there are missing values in Electrical,GarageType,Fence,MiscFeature      "
   ]
  },
  {
   "cell_type": "code",
   "execution_count": 359,
   "id": "942b187a",
   "metadata": {},
   "outputs": [
    {
     "data": {
      "text/html": [
       "<div>\n",
       "<style scoped>\n",
       "    .dataframe tbody tr th:only-of-type {\n",
       "        vertical-align: middle;\n",
       "    }\n",
       "\n",
       "    .dataframe tbody tr th {\n",
       "        vertical-align: top;\n",
       "    }\n",
       "\n",
       "    .dataframe thead th {\n",
       "        text-align: right;\n",
       "    }\n",
       "</style>\n",
       "<table border=\"1\" class=\"dataframe\">\n",
       "  <thead>\n",
       "    <tr style=\"text-align: right;\">\n",
       "      <th></th>\n",
       "      <th>count</th>\n",
       "      <th>mean</th>\n",
       "      <th>std</th>\n",
       "      <th>min</th>\n",
       "      <th>25%</th>\n",
       "      <th>50%</th>\n",
       "      <th>75%</th>\n",
       "      <th>max</th>\n",
       "    </tr>\n",
       "  </thead>\n",
       "  <tbody>\n",
       "    <tr>\n",
       "      <th>Id</th>\n",
       "      <td>1418.0</td>\n",
       "      <td>709.500000</td>\n",
       "      <td>409.485653</td>\n",
       "      <td>1.0</td>\n",
       "      <td>355.25</td>\n",
       "      <td>709.5</td>\n",
       "      <td>1063.75</td>\n",
       "      <td>1418.0</td>\n",
       "    </tr>\n",
       "    <tr>\n",
       "      <th>OverallQual</th>\n",
       "      <td>1418.0</td>\n",
       "      <td>6.114245</td>\n",
       "      <td>1.385858</td>\n",
       "      <td>1.0</td>\n",
       "      <td>5.00</td>\n",
       "      <td>6.0</td>\n",
       "      <td>7.00</td>\n",
       "      <td>10.0</td>\n",
       "    </tr>\n",
       "    <tr>\n",
       "      <th>YearBuilt</th>\n",
       "      <td>1418.0</td>\n",
       "      <td>1971.600846</td>\n",
       "      <td>30.064293</td>\n",
       "      <td>1872.0</td>\n",
       "      <td>1954.00</td>\n",
       "      <td>1973.0</td>\n",
       "      <td>2001.00</td>\n",
       "      <td>2010.0</td>\n",
       "    </tr>\n",
       "    <tr>\n",
       "      <th>TotalBsmtSF</th>\n",
       "      <td>1418.0</td>\n",
       "      <td>1061.712271</td>\n",
       "      <td>437.277589</td>\n",
       "      <td>0.0</td>\n",
       "      <td>796.50</td>\n",
       "      <td>994.0</td>\n",
       "      <td>1303.50</td>\n",
       "      <td>6110.0</td>\n",
       "    </tr>\n",
       "    <tr>\n",
       "      <th>GrLivArea</th>\n",
       "      <td>1418.0</td>\n",
       "      <td>1519.645275</td>\n",
       "      <td>527.412584</td>\n",
       "      <td>334.0</td>\n",
       "      <td>1132.50</td>\n",
       "      <td>1468.5</td>\n",
       "      <td>1786.00</td>\n",
       "      <td>5642.0</td>\n",
       "    </tr>\n",
       "    <tr>\n",
       "      <th>FullBath</th>\n",
       "      <td>1418.0</td>\n",
       "      <td>1.565585</td>\n",
       "      <td>0.551127</td>\n",
       "      <td>0.0</td>\n",
       "      <td>1.00</td>\n",
       "      <td>2.0</td>\n",
       "      <td>2.00</td>\n",
       "      <td>3.0</td>\n",
       "    </tr>\n",
       "    <tr>\n",
       "      <th>GarageCars</th>\n",
       "      <td>1418.0</td>\n",
       "      <td>1.763752</td>\n",
       "      <td>0.755995</td>\n",
       "      <td>0.0</td>\n",
       "      <td>1.00</td>\n",
       "      <td>2.0</td>\n",
       "      <td>2.00</td>\n",
       "      <td>4.0</td>\n",
       "    </tr>\n",
       "    <tr>\n",
       "      <th>GarageArea</th>\n",
       "      <td>1418.0</td>\n",
       "      <td>472.617772</td>\n",
       "      <td>216.068677</td>\n",
       "      <td>0.0</td>\n",
       "      <td>324.25</td>\n",
       "      <td>478.0</td>\n",
       "      <td>576.00</td>\n",
       "      <td>1418.0</td>\n",
       "    </tr>\n",
       "    <tr>\n",
       "      <th>SalePrice</th>\n",
       "      <td>1418.0</td>\n",
       "      <td>182089.485896</td>\n",
       "      <td>79970.934085</td>\n",
       "      <td>34900.0</td>\n",
       "      <td>130000.00</td>\n",
       "      <td>164800.0</td>\n",
       "      <td>215000.00</td>\n",
       "      <td>755000.0</td>\n",
       "    </tr>\n",
       "  </tbody>\n",
       "</table>\n",
       "</div>"
      ],
      "text/plain": [
       "              count           mean           std      min        25%  \\\n",
       "Id           1418.0     709.500000    409.485653      1.0     355.25   \n",
       "OverallQual  1418.0       6.114245      1.385858      1.0       5.00   \n",
       "YearBuilt    1418.0    1971.600846     30.064293   1872.0    1954.00   \n",
       "TotalBsmtSF  1418.0    1061.712271    437.277589      0.0     796.50   \n",
       "GrLivArea    1418.0    1519.645275    527.412584    334.0    1132.50   \n",
       "FullBath     1418.0       1.565585      0.551127      0.0       1.00   \n",
       "GarageCars   1418.0       1.763752      0.755995      0.0       1.00   \n",
       "GarageArea   1418.0     472.617772    216.068677      0.0     324.25   \n",
       "SalePrice    1418.0  182089.485896  79970.934085  34900.0  130000.00   \n",
       "\n",
       "                  50%        75%       max  \n",
       "Id              709.5    1063.75    1418.0  \n",
       "OverallQual       6.0       7.00      10.0  \n",
       "YearBuilt      1973.0    2001.00    2010.0  \n",
       "TotalBsmtSF     994.0    1303.50    6110.0  \n",
       "GrLivArea      1468.5    1786.00    5642.0  \n",
       "FullBath          2.0       2.00       3.0  \n",
       "GarageCars        2.0       2.00       4.0  \n",
       "GarageArea      478.0     576.00    1418.0  \n",
       "SalePrice    164800.0  215000.00  755000.0  "
      ]
     },
     "execution_count": 359,
     "metadata": {},
     "output_type": "execute_result"
    }
   ],
   "source": [
    "data.describe().T\n",
    "# it gives only  numeric value"
   ]
  },
  {
   "cell_type": "markdown",
   "id": "13b802d4",
   "metadata": {},
   "source": [
    "### TotalBsmtSF, GrLivArea, GArageArea, SalePrice can have outliers(hint from describe())"
   ]
  },
  {
   "cell_type": "code",
   "execution_count": 360,
   "id": "efd0ed9e",
   "metadata": {
    "scrolled": false
   },
   "outputs": [
    {
     "data": {
      "text/html": [
       "<div>\n",
       "<style scoped>\n",
       "    .dataframe tbody tr th:only-of-type {\n",
       "        vertical-align: middle;\n",
       "    }\n",
       "\n",
       "    .dataframe tbody tr th {\n",
       "        vertical-align: top;\n",
       "    }\n",
       "\n",
       "    .dataframe thead th {\n",
       "        text-align: right;\n",
       "    }\n",
       "</style>\n",
       "<table border=\"1\" class=\"dataframe\">\n",
       "  <thead>\n",
       "    <tr style=\"text-align: right;\">\n",
       "      <th></th>\n",
       "      <th>Electrical</th>\n",
       "      <th>GarageType</th>\n",
       "      <th>Fence</th>\n",
       "      <th>MiscFeature</th>\n",
       "    </tr>\n",
       "  </thead>\n",
       "  <tbody>\n",
       "    <tr>\n",
       "      <th>count</th>\n",
       "      <td>1417</td>\n",
       "      <td>1275</td>\n",
       "      <td>270</td>\n",
       "      <td>52</td>\n",
       "    </tr>\n",
       "    <tr>\n",
       "      <th>unique</th>\n",
       "      <td>5</td>\n",
       "      <td>6</td>\n",
       "      <td>4</td>\n",
       "      <td>4</td>\n",
       "    </tr>\n",
       "    <tr>\n",
       "      <th>top</th>\n",
       "      <td>SBrkr</td>\n",
       "      <td>Attchd</td>\n",
       "      <td>MnPrv</td>\n",
       "      <td>Shed</td>\n",
       "    </tr>\n",
       "    <tr>\n",
       "      <th>freq</th>\n",
       "      <td>1300</td>\n",
       "      <td>800</td>\n",
       "      <td>148</td>\n",
       "      <td>47</td>\n",
       "    </tr>\n",
       "  </tbody>\n",
       "</table>\n",
       "</div>"
      ],
      "text/plain": [
       "       Electrical GarageType  Fence MiscFeature\n",
       "count        1417       1275    270          52\n",
       "unique          5          6      4           4\n",
       "top         SBrkr     Attchd  MnPrv        Shed\n",
       "freq         1300        800    148          47"
      ]
     },
     "execution_count": 360,
     "metadata": {},
     "output_type": "execute_result"
    }
   ],
   "source": [
    "data.describe(include=object)"
   ]
  },
  {
   "cell_type": "code",
   "execution_count": 361,
   "id": "0ce0d188",
   "metadata": {},
   "outputs": [
    {
     "data": {
      "text/html": [
       "<div>\n",
       "<style scoped>\n",
       "    .dataframe tbody tr th:only-of-type {\n",
       "        vertical-align: middle;\n",
       "    }\n",
       "\n",
       "    .dataframe tbody tr th {\n",
       "        vertical-align: top;\n",
       "    }\n",
       "\n",
       "    .dataframe thead th {\n",
       "        text-align: right;\n",
       "    }\n",
       "</style>\n",
       "<table border=\"1\" class=\"dataframe\">\n",
       "  <thead>\n",
       "    <tr style=\"text-align: right;\">\n",
       "      <th></th>\n",
       "      <th>Id</th>\n",
       "      <th>OverallQual</th>\n",
       "      <th>YearBuilt</th>\n",
       "      <th>TotalBsmtSF</th>\n",
       "      <th>GrLivArea</th>\n",
       "      <th>FullBath</th>\n",
       "      <th>GarageCars</th>\n",
       "      <th>GarageArea</th>\n",
       "      <th>SalePrice</th>\n",
       "    </tr>\n",
       "  </thead>\n",
       "  <tbody>\n",
       "    <tr>\n",
       "      <th>Id</th>\n",
       "      <td>1.000000</td>\n",
       "      <td>-0.029188</td>\n",
       "      <td>-0.017960</td>\n",
       "      <td>-0.019396</td>\n",
       "      <td>0.002991</td>\n",
       "      <td>-0.000113</td>\n",
       "      <td>0.015633</td>\n",
       "      <td>0.014457</td>\n",
       "      <td>-0.029967</td>\n",
       "    </tr>\n",
       "    <tr>\n",
       "      <th>OverallQual</th>\n",
       "      <td>-0.029188</td>\n",
       "      <td>1.000000</td>\n",
       "      <td>0.584692</td>\n",
       "      <td>0.545747</td>\n",
       "      <td>0.592881</td>\n",
       "      <td>0.550112</td>\n",
       "      <td>0.609104</td>\n",
       "      <td>0.567796</td>\n",
       "      <td>0.791478</td>\n",
       "    </tr>\n",
       "    <tr>\n",
       "      <th>YearBuilt</th>\n",
       "      <td>-0.017960</td>\n",
       "      <td>0.584692</td>\n",
       "      <td>1.000000</td>\n",
       "      <td>0.396971</td>\n",
       "      <td>0.204757</td>\n",
       "      <td>0.478441</td>\n",
       "      <td>0.550275</td>\n",
       "      <td>0.492807</td>\n",
       "      <td>0.528006</td>\n",
       "    </tr>\n",
       "    <tr>\n",
       "      <th>TotalBsmtSF</th>\n",
       "      <td>-0.019396</td>\n",
       "      <td>0.545747</td>\n",
       "      <td>0.396971</td>\n",
       "      <td>1.000000</td>\n",
       "      <td>0.456365</td>\n",
       "      <td>0.326705</td>\n",
       "      <td>0.442614</td>\n",
       "      <td>0.495600</td>\n",
       "      <td>0.619852</td>\n",
       "    </tr>\n",
       "    <tr>\n",
       "      <th>GrLivArea</th>\n",
       "      <td>0.002991</td>\n",
       "      <td>0.592881</td>\n",
       "      <td>0.204757</td>\n",
       "      <td>0.456365</td>\n",
       "      <td>1.000000</td>\n",
       "      <td>0.626942</td>\n",
       "      <td>0.472139</td>\n",
       "      <td>0.470736</td>\n",
       "      <td>0.709503</td>\n",
       "    </tr>\n",
       "    <tr>\n",
       "      <th>FullBath</th>\n",
       "      <td>-0.000113</td>\n",
       "      <td>0.550112</td>\n",
       "      <td>0.478441</td>\n",
       "      <td>0.326705</td>\n",
       "      <td>0.626942</td>\n",
       "      <td>1.000000</td>\n",
       "      <td>0.473365</td>\n",
       "      <td>0.408453</td>\n",
       "      <td>0.562269</td>\n",
       "    </tr>\n",
       "    <tr>\n",
       "      <th>GarageCars</th>\n",
       "      <td>0.015633</td>\n",
       "      <td>0.609104</td>\n",
       "      <td>0.550275</td>\n",
       "      <td>0.442614</td>\n",
       "      <td>0.472139</td>\n",
       "      <td>0.473365</td>\n",
       "      <td>1.000000</td>\n",
       "      <td>0.884674</td>\n",
       "      <td>0.647676</td>\n",
       "    </tr>\n",
       "    <tr>\n",
       "      <th>GarageArea</th>\n",
       "      <td>0.014457</td>\n",
       "      <td>0.567796</td>\n",
       "      <td>0.492807</td>\n",
       "      <td>0.495600</td>\n",
       "      <td>0.470736</td>\n",
       "      <td>0.408453</td>\n",
       "      <td>0.884674</td>\n",
       "      <td>1.000000</td>\n",
       "      <td>0.627264</td>\n",
       "    </tr>\n",
       "    <tr>\n",
       "      <th>SalePrice</th>\n",
       "      <td>-0.029967</td>\n",
       "      <td>0.791478</td>\n",
       "      <td>0.528006</td>\n",
       "      <td>0.619852</td>\n",
       "      <td>0.709503</td>\n",
       "      <td>0.562269</td>\n",
       "      <td>0.647676</td>\n",
       "      <td>0.627264</td>\n",
       "      <td>1.000000</td>\n",
       "    </tr>\n",
       "  </tbody>\n",
       "</table>\n",
       "</div>"
      ],
      "text/plain": [
       "                   Id  OverallQual  YearBuilt  TotalBsmtSF  GrLivArea  \\\n",
       "Id           1.000000    -0.029188  -0.017960    -0.019396   0.002991   \n",
       "OverallQual -0.029188     1.000000   0.584692     0.545747   0.592881   \n",
       "YearBuilt   -0.017960     0.584692   1.000000     0.396971   0.204757   \n",
       "TotalBsmtSF -0.019396     0.545747   0.396971     1.000000   0.456365   \n",
       "GrLivArea    0.002991     0.592881   0.204757     0.456365   1.000000   \n",
       "FullBath    -0.000113     0.550112   0.478441     0.326705   0.626942   \n",
       "GarageCars   0.015633     0.609104   0.550275     0.442614   0.472139   \n",
       "GarageArea   0.014457     0.567796   0.492807     0.495600   0.470736   \n",
       "SalePrice   -0.029967     0.791478   0.528006     0.619852   0.709503   \n",
       "\n",
       "             FullBath  GarageCars  GarageArea  SalePrice  \n",
       "Id          -0.000113    0.015633    0.014457  -0.029967  \n",
       "OverallQual  0.550112    0.609104    0.567796   0.791478  \n",
       "YearBuilt    0.478441    0.550275    0.492807   0.528006  \n",
       "TotalBsmtSF  0.326705    0.442614    0.495600   0.619852  \n",
       "GrLivArea    0.626942    0.472139    0.470736   0.709503  \n",
       "FullBath     1.000000    0.473365    0.408453   0.562269  \n",
       "GarageCars   0.473365    1.000000    0.884674   0.647676  \n",
       "GarageArea   0.408453    0.884674    1.000000   0.627264  \n",
       "SalePrice    0.562269    0.647676    0.627264   1.000000  "
      ]
     },
     "execution_count": 361,
     "metadata": {},
     "output_type": "execute_result"
    }
   ],
   "source": [
    "data.corr()"
   ]
  },
  {
   "cell_type": "code",
   "execution_count": 362,
   "id": "cd1b6167",
   "metadata": {},
   "outputs": [
    {
     "data": {
      "image/png": "[encoded data removed]",
      "text/plain": [
       "<Figure size 720x504 with 2 Axes>"
      ]
     },
     "metadata": {
      "needs_background": "light"
     },
     "output_type": "display_data"
    }
   ],
   "source": [
    "plt.figure(figsize=(10,7))\n",
    "sns.heatmap(data.corr(),annot=True,vmax=1,vmin=-1,cmap='RdBu')\n",
    "plt.show()"
   ]
  },
  {
   "cell_type": "code",
   "execution_count": 363,
   "id": "00affa16",
   "metadata": {},
   "outputs": [
    {
     "data": {
      "text/plain": [
       "Id            -0.029967\n",
       "YearBuilt      0.528006\n",
       "FullBath       0.562269\n",
       "TotalBsmtSF    0.619852\n",
       "GarageArea     0.627264\n",
       "GarageCars     0.647676\n",
       "GrLivArea      0.709503\n",
       "OverallQual    0.791478\n",
       "SalePrice      1.000000\n",
       "Name: SalePrice, dtype: float64"
      ]
     },
     "execution_count": 363,
     "metadata": {},
     "output_type": "execute_result"
    }
   ],
   "source": [
    "data.corr()['SalePrice'].sort_values(ascending=True)"
   ]
  },
  {
   "cell_type": "code",
   "execution_count": 364,
   "id": "66f47b4b",
   "metadata": {},
   "outputs": [
    {
     "data": {
      "image/png": "[encoded data removed]",
      "text/plain": [
       "<Figure size 540x180 with 3 Axes>"
      ]
     },
     "metadata": {
      "needs_background": "light"
     },
     "output_type": "display_data"
    }
   ],
   "source": [
    "sns.pairplot(x_vars=['TotalBsmtSF', 'GrLivArea', 'GarageArea'],y_vars=['SalePrice'],data=data)\n",
    "plt.show()"
   ]
  },
  {
   "cell_type": "markdown",
   "id": "ed818d11",
   "metadata": {},
   "source": [
    "# STEP 4:- UNIVARIATE AND BI-VARIATE ANALYSIS"
   ]
  },
  {
   "cell_type": "code",
   "execution_count": 365,
   "id": "9b07ef93",
   "metadata": {},
   "outputs": [
    {
     "data": {
      "image/png": "[encoded data removed]",
      "text/plain": [
       "<Figure size 432x288 with 1 Axes>"
      ]
     },
     "metadata": {
      "needs_background": "light"
     },
     "output_type": "display_data"
    }
   ],
   "source": [
    "# explore target variable\n",
    "sns.histplot(data['SalePrice'],bins=np.arange(0,750000,50000))\n",
    "plt.title(\"Histogram\")\n",
    "plt.show()"
   ]
  },
  {
   "cell_type": "code",
   "execution_count": 366,
   "id": "120f4238",
   "metadata": {},
   "outputs": [
    {
     "data": {
      "image/png": "[encoded data removed]",
      "text/plain": [
       "<Figure size 432x288 with 1 Axes>"
      ]
     },
     "metadata": {
      "needs_background": "light"
     },
     "output_type": "display_data"
    },
    {
     "name": "stdout",
     "output_type": "stream",
     "text": [
      "Skewness  1.8646120239750106\n",
      "Kurtosis  6.432852054835754\n"
     ]
    }
   ],
   "source": [
    "sns.distplot(data['SalePrice'])\n",
    "plt.show()\n",
    "print('Skewness ',data['SalePrice'].skew())\n",
    "print('Kurtosis ',data['SalePrice'].kurt())\n",
    "\n",
    "# density and distribution\n",
    "# data is rightskewed \n",
    "# Skew>1- highly\n",
    "# skew1>0.5 moderatly\n",
    "# Skew 0>0.5 approx normal\n",
    "# Sharp peak- leaptokurtic"
   ]
  },
  {
   "cell_type": "code",
   "execution_count": 367,
   "id": "82bb079f",
   "metadata": {},
   "outputs": [
    {
     "data": {
      "image/png": "[encoded data removed]",
      "text/plain": [
       "<Figure size 432x288 with 1 Axes>"
      ]
     },
     "metadata": {
      "needs_background": "light"
     },
     "output_type": "display_data"
    },
    {
     "data": {
      "text/plain": [
       "count      1418.000000\n",
       "mean     182089.485896\n",
       "std       79970.934085\n",
       "min       34900.000000\n",
       "25%      130000.000000\n",
       "50%      164800.000000\n",
       "75%      215000.000000\n",
       "max      755000.000000\n",
       "Name: SalePrice, dtype: float64"
      ]
     },
     "execution_count": 367,
     "metadata": {},
     "output_type": "execute_result"
    }
   ],
   "source": [
    "sns.boxplot(data['SalePrice'])\n",
    "plt.show()\n",
    "data['SalePrice'].describe()"
   ]
  },
  {
   "cell_type": "markdown",
   "id": "2d97fdbe",
   "metadata": {},
   "source": [
    "### Bivariate analysis"
   ]
  },
  {
   "cell_type": "code",
   "execution_count": 368,
   "id": "a026e696",
   "metadata": {},
   "outputs": [],
   "source": [
    "# Explore the Saleprice with some categorical columns(Overallquall,Garagetype,Electrical,fence ,miscelleaneous)"
   ]
  },
  {
   "cell_type": "code",
   "execution_count": 369,
   "id": "eeecffa2",
   "metadata": {},
   "outputs": [
    {
     "data": {
      "image/png": "[encoded data removed]",
      "text/plain": [
       "<Figure size 1080x1440 with 3 Axes>"
      ]
     },
     "metadata": {
      "needs_background": "light"
     },
     "output_type": "display_data"
    }
   ],
   "source": [
    "plt.figure(figsize=(15,20))\n",
    "plt.subplot(3,1,1)\n",
    "sns.boxplot(x=data['OverallQual'],y=data['SalePrice'])\n",
    "plt.subplot(3,1,2)\n",
    "sns.boxplot(x=data['GarageType'],y=data['SalePrice'])\n",
    "plt.subplot(3,1,3)\n",
    "sns.boxplot(x=data['Electrical'],y=data['SalePrice'])\n",
    "plt.show()"
   ]
  },
  {
   "cell_type": "code",
   "execution_count": 370,
   "id": "85344fe4",
   "metadata": {},
   "outputs": [],
   "source": [
    "# Perfrom statiscal test on saleprice on the basis of overallquality"
   ]
  },
  {
   "cell_type": "code",
   "execution_count": 371,
   "id": "4cb90dc3",
   "metadata": {},
   "outputs": [],
   "source": [
    "price_a=data[data['OverallQual']<=5]['SalePrice']"
   ]
  },
  {
   "cell_type": "code",
   "execution_count": 372,
   "id": "50b4b11d",
   "metadata": {},
   "outputs": [],
   "source": [
    "price_b=data[data['OverallQual']>5]['SalePrice']"
   ]
  },
  {
   "cell_type": "code",
   "execution_count": 373,
   "id": "b80b8f0a",
   "metadata": {},
   "outputs": [],
   "source": [
    "from statsmodels.stats.weightstats import ztest"
   ]
  },
  {
   "cell_type": "code",
   "execution_count": 374,
   "id": "0e903f7e",
   "metadata": {},
   "outputs": [
    {
     "name": "stdout",
     "output_type": "stream",
     "text": [
      "Z_SCORE:  -23.626614342802807\n",
      "P_VALUE:  2.0535400662857033e-123\n",
      "Accept the H1\n"
     ]
    }
   ],
   "source": [
    "# H0-here is no difference in sample a and ssample b\n",
    "# H1- the two samples are different\n",
    "z_score,p_value=ztest(price_a,price_b)\n",
    "print('Z_SCORE: ',z_score)\n",
    "print('P_VALUE: ',p_value)\n",
    "if(p_value<0.05):\n",
    "    print('Accept the H1')\n",
    "else:\n",
    "    print(\"Accept the H0\")\n",
    "   "
   ]
  },
  {
   "cell_type": "code",
   "execution_count": 375,
   "id": "92fcfb1c",
   "metadata": {},
   "outputs": [
    {
     "name": "stdout",
     "output_type": "stream",
     "text": [
      "125886.23255813954\n",
      "214241.23614190688\n"
     ]
    }
   ],
   "source": [
    "print(price_a.mean())\n",
    "print(price_b.mean())"
   ]
  },
  {
   "cell_type": "code",
   "execution_count": 376,
   "id": "6d369844",
   "metadata": {},
   "outputs": [
    {
     "data": {
      "text/plain": [
       "Attchd     800\n",
       "Detchd     354\n",
       "BuiltIn     87\n",
       "Basment     19\n",
       "CarPort      9\n",
       "2Types       6\n",
       "Name: GarageType, dtype: int64"
      ]
     },
     "execution_count": 376,
     "metadata": {},
     "output_type": "execute_result"
    }
   ],
   "source": [
    "data['GarageType'].value_counts()"
   ]
  },
  {
   "cell_type": "code",
   "execution_count": 377,
   "id": "44177698",
   "metadata": {},
   "outputs": [
    {
     "data": {
      "text/plain": [
       "2    787\n",
       "1    364\n",
       "3    181\n",
       "0     81\n",
       "4      5\n",
       "Name: GarageCars, dtype: int64"
      ]
     },
     "execution_count": 377,
     "metadata": {},
     "output_type": "execute_result"
    }
   ],
   "source": [
    "data['GarageCars'].value_counts()"
   ]
  },
  {
   "cell_type": "code",
   "execution_count": 378,
   "id": "5351ed3d",
   "metadata": {},
   "outputs": [],
   "source": [
    "from scipy.stats import chi2_contingency"
   ]
  },
  {
   "cell_type": "code",
   "execution_count": 379,
   "id": "b8b7000b",
   "metadata": {},
   "outputs": [],
   "source": [
    "observed=pd.crosstab(data['GarageCars'],data['GarageType'])"
   ]
  },
  {
   "cell_type": "code",
   "execution_count": 380,
   "id": "2825f995",
   "metadata": {},
   "outputs": [
    {
     "data": {
      "text/html": [
       "<div>\n",
       "<style scoped>\n",
       "    .dataframe tbody tr th:only-of-type {\n",
       "        vertical-align: middle;\n",
       "    }\n",
       "\n",
       "    .dataframe tbody tr th {\n",
       "        vertical-align: top;\n",
       "    }\n",
       "\n",
       "    .dataframe thead th {\n",
       "        text-align: right;\n",
       "    }\n",
       "</style>\n",
       "<table border=\"1\" class=\"dataframe\">\n",
       "  <thead>\n",
       "    <tr style=\"text-align: right;\">\n",
       "      <th>GarageType</th>\n",
       "      <th>2Types</th>\n",
       "      <th>Attchd</th>\n",
       "      <th>Basment</th>\n",
       "      <th>BuiltIn</th>\n",
       "      <th>CarPort</th>\n",
       "      <th>Detchd</th>\n",
       "    </tr>\n",
       "    <tr>\n",
       "      <th>GarageCars</th>\n",
       "      <th></th>\n",
       "      <th></th>\n",
       "      <th></th>\n",
       "      <th></th>\n",
       "      <th></th>\n",
       "      <th></th>\n",
       "    </tr>\n",
       "  </thead>\n",
       "  <tbody>\n",
       "    <tr>\n",
       "      <th>1</th>\n",
       "      <td>0</td>\n",
       "      <td>105</td>\n",
       "      <td>8</td>\n",
       "      <td>8</td>\n",
       "      <td>3</td>\n",
       "      <td>178</td>\n",
       "    </tr>\n",
       "    <tr>\n",
       "      <th>2</th>\n",
       "      <td>1</td>\n",
       "      <td>556</td>\n",
       "      <td>11</td>\n",
       "      <td>49</td>\n",
       "      <td>6</td>\n",
       "      <td>164</td>\n",
       "    </tr>\n",
       "    <tr>\n",
       "      <th>3</th>\n",
       "      <td>4</td>\n",
       "      <td>138</td>\n",
       "      <td>0</td>\n",
       "      <td>30</td>\n",
       "      <td>0</td>\n",
       "      <td>9</td>\n",
       "    </tr>\n",
       "    <tr>\n",
       "      <th>4</th>\n",
       "      <td>1</td>\n",
       "      <td>1</td>\n",
       "      <td>0</td>\n",
       "      <td>0</td>\n",
       "      <td>0</td>\n",
       "      <td>3</td>\n",
       "    </tr>\n",
       "  </tbody>\n",
       "</table>\n",
       "</div>"
      ],
      "text/plain": [
       "GarageType  2Types  Attchd  Basment  BuiltIn  CarPort  Detchd\n",
       "GarageCars                                                   \n",
       "1                0     105        8        8        3     178\n",
       "2                1     556       11       49        6     164\n",
       "3                4     138        0       30        0       9\n",
       "4                1       1        0        0        0       3"
      ]
     },
     "execution_count": 380,
     "metadata": {},
     "output_type": "execute_result"
    }
   ],
   "source": [
    "observed"
   ]
  },
  {
   "cell_type": "code",
   "execution_count": 381,
   "id": "d2af9ca2",
   "metadata": {},
   "outputs": [
    {
     "name": "stdout",
     "output_type": "stream",
     "text": [
      "CHI value:  303.7522700344729\n",
      "P_VALUE:  9.277832977712945e-56\n",
      "Accept the H1\n"
     ]
    }
   ],
   "source": [
    "# H0: The two columns are  Independent\n",
    "# H1: TWo columns are dependent\n",
    "chi,p,dof,expected=chi2_contingency(observed)\n",
    "print('CHI value: ',chi)\n",
    "print('P_VALUE: ',p)\n",
    "if(p<0.05):\n",
    "    print('Accept the H1')\n",
    "else:\n",
    "    print(\"Accept the H0\")\n",
    "   "
   ]
  },
  {
   "cell_type": "code",
   "execution_count": null,
   "id": "d1746107",
   "metadata": {},
   "outputs": [],
   "source": []
  },
  {
   "cell_type": "code",
   "execution_count": 382,
   "id": "dec85870",
   "metadata": {},
   "outputs": [
    {
     "data": {
      "text/html": [
       "<div>\n",
       "<style scoped>\n",
       "    .dataframe tbody tr th:only-of-type {\n",
       "        vertical-align: middle;\n",
       "    }\n",
       "\n",
       "    .dataframe tbody tr th {\n",
       "        vertical-align: top;\n",
       "    }\n",
       "\n",
       "    .dataframe thead th {\n",
       "        text-align: right;\n",
       "    }\n",
       "</style>\n",
       "<table border=\"1\" class=\"dataframe\">\n",
       "  <thead>\n",
       "    <tr style=\"text-align: right;\">\n",
       "      <th></th>\n",
       "      <th>0</th>\n",
       "      <th>1</th>\n",
       "      <th>2</th>\n",
       "      <th>3</th>\n",
       "      <th>4</th>\n",
       "      <th>5</th>\n",
       "    </tr>\n",
       "  </thead>\n",
       "  <tbody>\n",
       "    <tr>\n",
       "      <th>0</th>\n",
       "      <td>1.421176</td>\n",
       "      <td>189.490196</td>\n",
       "      <td>4.500392</td>\n",
       "      <td>20.607059</td>\n",
       "      <td>2.131765</td>\n",
       "      <td>83.849412</td>\n",
       "    </tr>\n",
       "    <tr>\n",
       "      <th>1</th>\n",
       "      <td>3.703529</td>\n",
       "      <td>493.803922</td>\n",
       "      <td>11.727843</td>\n",
       "      <td>53.701176</td>\n",
       "      <td>5.555294</td>\n",
       "      <td>218.508235</td>\n",
       "    </tr>\n",
       "    <tr>\n",
       "      <th>2</th>\n",
       "      <td>0.851765</td>\n",
       "      <td>113.568627</td>\n",
       "      <td>2.697255</td>\n",
       "      <td>12.350588</td>\n",
       "      <td>1.277647</td>\n",
       "      <td>50.254118</td>\n",
       "    </tr>\n",
       "    <tr>\n",
       "      <th>3</th>\n",
       "      <td>0.023529</td>\n",
       "      <td>3.137255</td>\n",
       "      <td>0.074510</td>\n",
       "      <td>0.341176</td>\n",
       "      <td>0.035294</td>\n",
       "      <td>1.388235</td>\n",
       "    </tr>\n",
       "  </tbody>\n",
       "</table>\n",
       "</div>"
      ],
      "text/plain": [
       "          0           1          2          3         4           5\n",
       "0  1.421176  189.490196   4.500392  20.607059  2.131765   83.849412\n",
       "1  3.703529  493.803922  11.727843  53.701176  5.555294  218.508235\n",
       "2  0.851765  113.568627   2.697255  12.350588  1.277647   50.254118\n",
       "3  0.023529    3.137255   0.074510   0.341176  0.035294    1.388235"
      ]
     },
     "execution_count": 382,
     "metadata": {},
     "output_type": "execute_result"
    }
   ],
   "source": [
    "pd.DataFrame(expected)"
   ]
  },
  {
   "cell_type": "markdown",
   "id": "0c55df2d",
   "metadata": {},
   "source": [
    "# STEP 5:- preprocessing and exploring"
   ]
  },
  {
   "cell_type": "code",
   "execution_count": 383,
   "id": "fe7bae8b",
   "metadata": {},
   "outputs": [
    {
     "data": {
      "text/plain": [
       "Id                0\n",
       "OverallQual       0\n",
       "YearBuilt         0\n",
       "TotalBsmtSF       0\n",
       "Electrical        1\n",
       "GrLivArea         0\n",
       "FullBath          0\n",
       "GarageType      143\n",
       "GarageCars        0\n",
       "GarageArea        0\n",
       "Fence          1148\n",
       "MiscFeature    1366\n",
       "SalePrice         0\n",
       "dtype: int64"
      ]
     },
     "execution_count": 383,
     "metadata": {},
     "output_type": "execute_result"
    }
   ],
   "source": [
    "data.isnull().sum()"
   ]
  },
  {
   "cell_type": "code",
   "execution_count": 384,
   "id": "bc74a1b2",
   "metadata": {},
   "outputs": [
    {
     "data": {
      "text/plain": [
       "MiscFeature    96.332863\n",
       "Fence          80.959097\n",
       "GarageType     10.084626\n",
       "Electrical      0.070522\n",
       "Id              0.000000\n",
       "OverallQual     0.000000\n",
       "YearBuilt       0.000000\n",
       "TotalBsmtSF     0.000000\n",
       "GrLivArea       0.000000\n",
       "FullBath        0.000000\n",
       "GarageCars      0.000000\n",
       "GarageArea      0.000000\n",
       "SalePrice       0.000000\n",
       "dtype: float64"
      ]
     },
     "execution_count": 384,
     "metadata": {},
     "output_type": "execute_result"
    }
   ],
   "source": [
    "((data.isnull().sum()/data.isnull().count())*100).sort_values(ascending=False)"
   ]
  },
  {
   "cell_type": "code",
   "execution_count": 385,
   "id": "63079671",
   "metadata": {},
   "outputs": [
    {
     "data": {
      "text/html": [
       "<div>\n",
       "<style scoped>\n",
       "    .dataframe tbody tr th:only-of-type {\n",
       "        vertical-align: middle;\n",
       "    }\n",
       "\n",
       "    .dataframe tbody tr th {\n",
       "        vertical-align: top;\n",
       "    }\n",
       "\n",
       "    .dataframe thead th {\n",
       "        text-align: right;\n",
       "    }\n",
       "</style>\n",
       "<table border=\"1\" class=\"dataframe\">\n",
       "  <thead>\n",
       "    <tr style=\"text-align: right;\">\n",
       "      <th></th>\n",
       "      <th>Id</th>\n",
       "      <th>OverallQual</th>\n",
       "      <th>YearBuilt</th>\n",
       "      <th>TotalBsmtSF</th>\n",
       "      <th>Electrical</th>\n",
       "      <th>GrLivArea</th>\n",
       "      <th>FullBath</th>\n",
       "      <th>GarageType</th>\n",
       "      <th>GarageCars</th>\n",
       "      <th>GarageArea</th>\n",
       "      <th>Fence</th>\n",
       "      <th>MiscFeature</th>\n",
       "      <th>SalePrice</th>\n",
       "    </tr>\n",
       "  </thead>\n",
       "  <tbody>\n",
       "    <tr>\n",
       "      <th>1339</th>\n",
       "      <td>1340</td>\n",
       "      <td>5</td>\n",
       "      <td>2006</td>\n",
       "      <td>384</td>\n",
       "      <td>NaN</td>\n",
       "      <td>1394</td>\n",
       "      <td>2</td>\n",
       "      <td>BuiltIn</td>\n",
       "      <td>2</td>\n",
       "      <td>400</td>\n",
       "      <td>NaN</td>\n",
       "      <td>NaN</td>\n",
       "      <td>167500</td>\n",
       "    </tr>\n",
       "  </tbody>\n",
       "</table>\n",
       "</div>"
      ],
      "text/plain": [
       "        Id  OverallQual  YearBuilt  TotalBsmtSF Electrical  GrLivArea  \\\n",
       "1339  1340            5       2006          384        NaN       1394   \n",
       "\n",
       "      FullBath GarageType  GarageCars  GarageArea Fence MiscFeature  SalePrice  \n",
       "1339         2    BuiltIn           2         400   NaN         NaN     167500  "
      ]
     },
     "execution_count": 385,
     "metadata": {},
     "output_type": "execute_result"
    }
   ],
   "source": [
    "#  First let us treat the missing values in electrical\n",
    "data[data[\"Electrical\"].isnull()]"
   ]
  },
  {
   "cell_type": "code",
   "execution_count": 386,
   "id": "04facb83",
   "metadata": {},
   "outputs": [
    {
     "data": {
      "text/plain": [
       "'SBrkr'"
      ]
     },
     "execution_count": 386,
     "metadata": {},
     "output_type": "execute_result"
    }
   ],
   "source": [
    "data['Electrical'].mode()[0]"
   ]
  },
  {
   "cell_type": "code",
   "execution_count": 387,
   "id": "0c27b895",
   "metadata": {},
   "outputs": [],
   "source": [
    "data['Electrical'].fillna(data['Electrical'].mode()[0],inplace=True)"
   ]
  },
  {
   "cell_type": "code",
   "execution_count": 388,
   "id": "4052dd04",
   "metadata": {},
   "outputs": [
    {
     "data": {
      "text/html": [
       "<div>\n",
       "<style scoped>\n",
       "    .dataframe tbody tr th:only-of-type {\n",
       "        vertical-align: middle;\n",
       "    }\n",
       "\n",
       "    .dataframe tbody tr th {\n",
       "        vertical-align: top;\n",
       "    }\n",
       "\n",
       "    .dataframe thead th {\n",
       "        text-align: right;\n",
       "    }\n",
       "</style>\n",
       "<table border=\"1\" class=\"dataframe\">\n",
       "  <thead>\n",
       "    <tr style=\"text-align: right;\">\n",
       "      <th></th>\n",
       "      <th>Id</th>\n",
       "      <th>OverallQual</th>\n",
       "      <th>YearBuilt</th>\n",
       "      <th>TotalBsmtSF</th>\n",
       "      <th>Electrical</th>\n",
       "      <th>GrLivArea</th>\n",
       "      <th>FullBath</th>\n",
       "      <th>GarageType</th>\n",
       "      <th>GarageCars</th>\n",
       "      <th>GarageArea</th>\n",
       "      <th>Fence</th>\n",
       "      <th>MiscFeature</th>\n",
       "      <th>SalePrice</th>\n",
       "    </tr>\n",
       "  </thead>\n",
       "  <tbody>\n",
       "  </tbody>\n",
       "</table>\n",
       "</div>"
      ],
      "text/plain": [
       "Empty DataFrame\n",
       "Columns: [Id, OverallQual, YearBuilt, TotalBsmtSF, Electrical, GrLivArea, FullBath, GarageType, GarageCars, GarageArea, Fence, MiscFeature, SalePrice]\n",
       "Index: []"
      ]
     },
     "execution_count": 388,
     "metadata": {},
     "output_type": "execute_result"
    }
   ],
   "source": [
    "data[data['Electrical'].isnull()]"
   ]
  },
  {
   "cell_type": "code",
   "execution_count": 389,
   "id": "e43bdd0c",
   "metadata": {},
   "outputs": [],
   "source": [
    "# Next Treat Grage Type"
   ]
  },
  {
   "cell_type": "code",
   "execution_count": 390,
   "id": "5a36c23b",
   "metadata": {},
   "outputs": [
    {
     "data": {
      "text/html": [
       "<div>\n",
       "<style scoped>\n",
       "    .dataframe tbody tr th:only-of-type {\n",
       "        vertical-align: middle;\n",
       "    }\n",
       "\n",
       "    .dataframe tbody tr th {\n",
       "        vertical-align: top;\n",
       "    }\n",
       "\n",
       "    .dataframe thead th {\n",
       "        text-align: right;\n",
       "    }\n",
       "</style>\n",
       "<table border=\"1\" class=\"dataframe\">\n",
       "  <thead>\n",
       "    <tr style=\"text-align: right;\">\n",
       "      <th></th>\n",
       "      <th>Id</th>\n",
       "      <th>OverallQual</th>\n",
       "      <th>YearBuilt</th>\n",
       "      <th>TotalBsmtSF</th>\n",
       "      <th>Electrical</th>\n",
       "      <th>GrLivArea</th>\n",
       "      <th>FullBath</th>\n",
       "      <th>GarageType</th>\n",
       "      <th>GarageCars</th>\n",
       "      <th>GarageArea</th>\n",
       "      <th>Fence</th>\n",
       "      <th>MiscFeature</th>\n",
       "      <th>SalePrice</th>\n",
       "    </tr>\n",
       "  </thead>\n",
       "  <tbody>\n",
       "    <tr>\n",
       "      <th>8</th>\n",
       "      <td>9</td>\n",
       "      <td>5</td>\n",
       "      <td>1939</td>\n",
       "      <td>991</td>\n",
       "      <td>SBrkr</td>\n",
       "      <td>1077</td>\n",
       "      <td>1</td>\n",
       "      <td>NaN</td>\n",
       "      <td>1</td>\n",
       "      <td>205</td>\n",
       "      <td>NaN</td>\n",
       "      <td>NaN</td>\n",
       "      <td>118000</td>\n",
       "    </tr>\n",
       "    <tr>\n",
       "      <th>22</th>\n",
       "      <td>23</td>\n",
       "      <td>5</td>\n",
       "      <td>1968</td>\n",
       "      <td>1060</td>\n",
       "      <td>SBrkr</td>\n",
       "      <td>1060</td>\n",
       "      <td>1</td>\n",
       "      <td>NaN</td>\n",
       "      <td>1</td>\n",
       "      <td>270</td>\n",
       "      <td>MnPrv</td>\n",
       "      <td>NaN</td>\n",
       "      <td>154000</td>\n",
       "    </tr>\n",
       "    <tr>\n",
       "      <th>26</th>\n",
       "      <td>27</td>\n",
       "      <td>5</td>\n",
       "      <td>1957</td>\n",
       "      <td>1484</td>\n",
       "      <td>SBrkr</td>\n",
       "      <td>1600</td>\n",
       "      <td>1</td>\n",
       "      <td>NaN</td>\n",
       "      <td>1</td>\n",
       "      <td>319</td>\n",
       "      <td>NaN</td>\n",
       "      <td>NaN</td>\n",
       "      <td>207500</td>\n",
       "    </tr>\n",
       "    <tr>\n",
       "      <th>37</th>\n",
       "      <td>38</td>\n",
       "      <td>4</td>\n",
       "      <td>1955</td>\n",
       "      <td>0</td>\n",
       "      <td>FuseP</td>\n",
       "      <td>1152</td>\n",
       "      <td>2</td>\n",
       "      <td>NaN</td>\n",
       "      <td>0</td>\n",
       "      <td>0</td>\n",
       "      <td>NaN</td>\n",
       "      <td>NaN</td>\n",
       "      <td>82000</td>\n",
       "    </tr>\n",
       "    <tr>\n",
       "      <th>39</th>\n",
       "      <td>40</td>\n",
       "      <td>5</td>\n",
       "      <td>1959</td>\n",
       "      <td>1350</td>\n",
       "      <td>SBrkr</td>\n",
       "      <td>1328</td>\n",
       "      <td>1</td>\n",
       "      <td>NaN</td>\n",
       "      <td>1</td>\n",
       "      <td>308</td>\n",
       "      <td>NaN</td>\n",
       "      <td>NaN</td>\n",
       "      <td>170000</td>\n",
       "    </tr>\n",
       "    <tr>\n",
       "      <th>...</th>\n",
       "      <td>...</td>\n",
       "      <td>...</td>\n",
       "      <td>...</td>\n",
       "      <td>...</td>\n",
       "      <td>...</td>\n",
       "      <td>...</td>\n",
       "      <td>...</td>\n",
       "      <td>...</td>\n",
       "      <td>...</td>\n",
       "      <td>...</td>\n",
       "      <td>...</td>\n",
       "      <td>...</td>\n",
       "      <td>...</td>\n",
       "    </tr>\n",
       "    <tr>\n",
       "      <th>1387</th>\n",
       "      <td>1388</td>\n",
       "      <td>5</td>\n",
       "      <td>1940</td>\n",
       "      <td>788</td>\n",
       "      <td>SBrkr</td>\n",
       "      <td>804</td>\n",
       "      <td>1</td>\n",
       "      <td>NaN</td>\n",
       "      <td>1</td>\n",
       "      <td>240</td>\n",
       "      <td>MnPrv</td>\n",
       "      <td>NaN</td>\n",
       "      <td>119000</td>\n",
       "    </tr>\n",
       "    <tr>\n",
       "      <th>1407</th>\n",
       "      <td>1408</td>\n",
       "      <td>5</td>\n",
       "      <td>1970</td>\n",
       "      <td>630</td>\n",
       "      <td>SBrkr</td>\n",
       "      <td>630</td>\n",
       "      <td>1</td>\n",
       "      <td>NaN</td>\n",
       "      <td>0</td>\n",
       "      <td>0</td>\n",
       "      <td>NaN</td>\n",
       "      <td>NaN</td>\n",
       "      <td>92000</td>\n",
       "    </tr>\n",
       "    <tr>\n",
       "      <th>1408</th>\n",
       "      <td>1409</td>\n",
       "      <td>5</td>\n",
       "      <td>1974</td>\n",
       "      <td>896</td>\n",
       "      <td>SBrkr</td>\n",
       "      <td>1792</td>\n",
       "      <td>2</td>\n",
       "      <td>NaN</td>\n",
       "      <td>0</td>\n",
       "      <td>0</td>\n",
       "      <td>NaN</td>\n",
       "      <td>NaN</td>\n",
       "      <td>136000</td>\n",
       "    </tr>\n",
       "    <tr>\n",
       "      <th>1411</th>\n",
       "      <td>1412</td>\n",
       "      <td>5</td>\n",
       "      <td>2006</td>\n",
       "      <td>1140</td>\n",
       "      <td>SBrkr</td>\n",
       "      <td>1140</td>\n",
       "      <td>1</td>\n",
       "      <td>NaN</td>\n",
       "      <td>0</td>\n",
       "      <td>0</td>\n",
       "      <td>NaN</td>\n",
       "      <td>NaN</td>\n",
       "      <td>84500</td>\n",
       "    </tr>\n",
       "    <tr>\n",
       "      <th>1416</th>\n",
       "      <td>1417</td>\n",
       "      <td>5</td>\n",
       "      <td>1950</td>\n",
       "      <td>1078</td>\n",
       "      <td>FuseA</td>\n",
       "      <td>1078</td>\n",
       "      <td>1</td>\n",
       "      <td>NaN</td>\n",
       "      <td>1</td>\n",
       "      <td>240</td>\n",
       "      <td>NaN</td>\n",
       "      <td>NaN</td>\n",
       "      <td>142125</td>\n",
       "    </tr>\n",
       "  </tbody>\n",
       "</table>\n",
       "<p>143 rows × 13 columns</p>\n",
       "</div>"
      ],
      "text/plain": [
       "        Id  OverallQual  YearBuilt  TotalBsmtSF Electrical  GrLivArea  \\\n",
       "8        9            5       1939          991      SBrkr       1077   \n",
       "22      23            5       1968         1060      SBrkr       1060   \n",
       "26      27            5       1957         1484      SBrkr       1600   \n",
       "37      38            4       1955            0      FuseP       1152   \n",
       "39      40            5       1959         1350      SBrkr       1328   \n",
       "...    ...          ...        ...          ...        ...        ...   \n",
       "1387  1388            5       1940          788      SBrkr        804   \n",
       "1407  1408            5       1970          630      SBrkr        630   \n",
       "1408  1409            5       1974          896      SBrkr       1792   \n",
       "1411  1412            5       2006         1140      SBrkr       1140   \n",
       "1416  1417            5       1950         1078      FuseA       1078   \n",
       "\n",
       "      FullBath GarageType  GarageCars  GarageArea  Fence MiscFeature  \\\n",
       "8            1        NaN           1         205    NaN         NaN   \n",
       "22           1        NaN           1         270  MnPrv         NaN   \n",
       "26           1        NaN           1         319    NaN         NaN   \n",
       "37           2        NaN           0           0    NaN         NaN   \n",
       "39           1        NaN           1         308    NaN         NaN   \n",
       "...        ...        ...         ...         ...    ...         ...   \n",
       "1387         1        NaN           1         240  MnPrv         NaN   \n",
       "1407         1        NaN           0           0    NaN         NaN   \n",
       "1408         2        NaN           0           0    NaN         NaN   \n",
       "1411         1        NaN           0           0    NaN         NaN   \n",
       "1416         1        NaN           1         240    NaN         NaN   \n",
       "\n",
       "      SalePrice  \n",
       "8        118000  \n",
       "22       154000  \n",
       "26       207500  \n",
       "37        82000  \n",
       "39       170000  \n",
       "...         ...  \n",
       "1387     119000  \n",
       "1407      92000  \n",
       "1408     136000  \n",
       "1411      84500  \n",
       "1416     142125  \n",
       "\n",
       "[143 rows x 13 columns]"
      ]
     },
     "execution_count": 390,
     "metadata": {},
     "output_type": "execute_result"
    }
   ],
   "source": [
    "data[data['GarageType'].isnull()]"
   ]
  },
  {
   "cell_type": "code",
   "execution_count": 391,
   "id": "3855a40d",
   "metadata": {},
   "outputs": [
    {
     "data": {
      "text/plain": [
       "Attchd     800\n",
       "Detchd     354\n",
       "BuiltIn     87\n",
       "Basment     19\n",
       "CarPort      9\n",
       "2Types       6\n",
       "Name: GarageType, dtype: int64"
      ]
     },
     "execution_count": 391,
     "metadata": {},
     "output_type": "execute_result"
    }
   ],
   "source": [
    "data[data['GarageCars']==0]\n",
    "data['GarageType'] .value_counts()   "
   ]
  },
  {
   "cell_type": "code",
   "execution_count": 392,
   "id": "3be05109",
   "metadata": {},
   "outputs": [],
   "source": [
    "data['GarageType']=np.where(data['GarageArea']==0,'NoGarage',data['GarageType'])"
   ]
  },
  {
   "cell_type": "code",
   "execution_count": 393,
   "id": "ada66548",
   "metadata": {},
   "outputs": [],
   "source": [
    "data_garagetype_null=data[data['GarageType'].isnull()]"
   ]
  },
  {
   "cell_type": "code",
   "execution_count": 394,
   "id": "94292a9f",
   "metadata": {},
   "outputs": [
    {
     "data": {
      "text/plain": [
       "1    62\n",
       "Name: GarageCars, dtype: int64"
      ]
     },
     "execution_count": 394,
     "metadata": {},
     "output_type": "execute_result"
    }
   ],
   "source": [
    "data_garagetype_null['GarageCars'].value_counts()"
   ]
  },
  {
   "cell_type": "code",
   "execution_count": 395,
   "id": "fc8af134",
   "metadata": {},
   "outputs": [
    {
     "data": {
      "text/plain": [
       "2    787\n",
       "1    364\n",
       "3    181\n",
       "0     81\n",
       "4      5\n",
       "Name: GarageCars, dtype: int64"
      ]
     },
     "execution_count": 395,
     "metadata": {},
     "output_type": "execute_result"
    }
   ],
   "source": [
    "data['GarageCars'].value_counts()"
   ]
  },
  {
   "cell_type": "code",
   "execution_count": 396,
   "id": "467d3598",
   "metadata": {},
   "outputs": [
    {
     "data": {
      "text/plain": [
       "0    Detchd\n",
       "Name: GarageType, dtype: object"
      ]
     },
     "execution_count": 396,
     "metadata": {},
     "output_type": "execute_result"
    }
   ],
   "source": [
    "data[data['GarageCars']==1]['GarageType'].mode()"
   ]
  },
  {
   "cell_type": "code",
   "execution_count": 397,
   "id": "22b39bf1",
   "metadata": {},
   "outputs": [],
   "source": [
    "data['GarageType'].fillna(data[data['GarageCars']==1]['GarageType'].mode()[0],inplace=True)"
   ]
  },
  {
   "cell_type": "code",
   "execution_count": 398,
   "id": "3cf5b066",
   "metadata": {},
   "outputs": [
    {
     "data": {
      "text/html": [
       "<div>\n",
       "<style scoped>\n",
       "    .dataframe tbody tr th:only-of-type {\n",
       "        vertical-align: middle;\n",
       "    }\n",
       "\n",
       "    .dataframe tbody tr th {\n",
       "        vertical-align: top;\n",
       "    }\n",
       "\n",
       "    .dataframe thead th {\n",
       "        text-align: right;\n",
       "    }\n",
       "</style>\n",
       "<table border=\"1\" class=\"dataframe\">\n",
       "  <thead>\n",
       "    <tr style=\"text-align: right;\">\n",
       "      <th></th>\n",
       "      <th>Id</th>\n",
       "      <th>OverallQual</th>\n",
       "      <th>YearBuilt</th>\n",
       "      <th>TotalBsmtSF</th>\n",
       "      <th>Electrical</th>\n",
       "      <th>GrLivArea</th>\n",
       "      <th>FullBath</th>\n",
       "      <th>GarageType</th>\n",
       "      <th>GarageCars</th>\n",
       "      <th>GarageArea</th>\n",
       "      <th>Fence</th>\n",
       "      <th>MiscFeature</th>\n",
       "      <th>SalePrice</th>\n",
       "    </tr>\n",
       "  </thead>\n",
       "  <tbody>\n",
       "  </tbody>\n",
       "</table>\n",
       "</div>"
      ],
      "text/plain": [
       "Empty DataFrame\n",
       "Columns: [Id, OverallQual, YearBuilt, TotalBsmtSF, Electrical, GrLivArea, FullBath, GarageType, GarageCars, GarageArea, Fence, MiscFeature, SalePrice]\n",
       "Index: []"
      ]
     },
     "execution_count": 398,
     "metadata": {},
     "output_type": "execute_result"
    }
   ],
   "source": [
    "data[data['GarageType'].isnull()]"
   ]
  },
  {
   "cell_type": "code",
   "execution_count": 399,
   "id": "edfb53a0",
   "metadata": {},
   "outputs": [
    {
     "data": {
      "text/plain": [
       "Shed    47\n",
       "Gar2     2\n",
       "Othr     2\n",
       "TenC     1\n",
       "Name: MiscFeature, dtype: int64"
      ]
     },
     "execution_count": 399,
     "metadata": {},
     "output_type": "execute_result"
    }
   ],
   "source": [
    "data['Fence'].value_counts()\n",
    "data['MiscFeature'].value_counts()"
   ]
  },
  {
   "cell_type": "code",
   "execution_count": 400,
   "id": "22451868",
   "metadata": {},
   "outputs": [],
   "source": [
    "# drop miscfeautre and fence\n",
    "data=data.drop(columns=['MiscFeature',\"Fence\"])"
   ]
  },
  {
   "cell_type": "code",
   "execution_count": 401,
   "id": "25589783",
   "metadata": {},
   "outputs": [
    {
     "data": {
      "text/plain": [
       "Id             0\n",
       "OverallQual    0\n",
       "YearBuilt      0\n",
       "TotalBsmtSF    0\n",
       "Electrical     0\n",
       "GrLivArea      0\n",
       "FullBath       0\n",
       "GarageType     0\n",
       "GarageCars     0\n",
       "GarageArea     0\n",
       "SalePrice      0\n",
       "dtype: int64"
      ]
     },
     "execution_count": 401,
     "metadata": {},
     "output_type": "execute_result"
    }
   ],
   "source": [
    "data.isnull().sum()"
   ]
  },
  {
   "cell_type": "markdown",
   "id": "efe333bc",
   "metadata": {},
   "source": [
    "# Exploring and treating Outliers"
   ]
  },
  {
   "cell_type": "code",
   "execution_count": 402,
   "id": "c647ac42",
   "metadata": {},
   "outputs": [
    {
     "data": {
      "text/plain": [
       "<AxesSubplot:xlabel='SalePrice', ylabel='TotalBsmtSF'>"
      ]
     },
     "execution_count": 402,
     "metadata": {},
     "output_type": "execute_result"
    },
    {
     "data": {
      "image/png": "[encoded data removed]",
      "text/plain": [
       "<Figure size 432x288 with 1 Axes>"
      ]
     },
     "metadata": {
      "needs_background": "light"
     },
     "output_type": "display_data"
    }
   ],
   "source": [
    "sns.scatterplot(x='SalePrice',y='TotalBsmtSF',data=data)"
   ]
  },
  {
   "cell_type": "code",
   "execution_count": 403,
   "id": "5bc3b453",
   "metadata": {},
   "outputs": [
    {
     "data": {
      "image/png": "[encoded data removed]",
      "text/plain": [
       "<Figure size 432x288 with 1 Axes>"
      ]
     },
     "metadata": {
      "needs_background": "light"
     },
     "output_type": "display_data"
    }
   ],
   "source": [
    "sns.boxplot(data['TotalBsmtSF'])\n",
    "plt.show()"
   ]
  },
  {
   "cell_type": "code",
   "execution_count": 404,
   "id": "0aa8c685",
   "metadata": {},
   "outputs": [
    {
     "data": {
      "text/html": [
       "<div>\n",
       "<style scoped>\n",
       "    .dataframe tbody tr th:only-of-type {\n",
       "        vertical-align: middle;\n",
       "    }\n",
       "\n",
       "    .dataframe tbody tr th {\n",
       "        vertical-align: top;\n",
       "    }\n",
       "\n",
       "    .dataframe thead th {\n",
       "        text-align: right;\n",
       "    }\n",
       "</style>\n",
       "<table border=\"1\" class=\"dataframe\">\n",
       "  <thead>\n",
       "    <tr style=\"text-align: right;\">\n",
       "      <th></th>\n",
       "      <th>Id</th>\n",
       "      <th>OverallQual</th>\n",
       "      <th>YearBuilt</th>\n",
       "      <th>TotalBsmtSF</th>\n",
       "      <th>Electrical</th>\n",
       "      <th>GrLivArea</th>\n",
       "      <th>FullBath</th>\n",
       "      <th>GarageType</th>\n",
       "      <th>GarageCars</th>\n",
       "      <th>GarageArea</th>\n",
       "      <th>SalePrice</th>\n",
       "    </tr>\n",
       "  </thead>\n",
       "  <tbody>\n",
       "    <tr>\n",
       "      <th>1260</th>\n",
       "      <td>1261</td>\n",
       "      <td>10</td>\n",
       "      <td>2008</td>\n",
       "      <td>6110</td>\n",
       "      <td>SBrkr</td>\n",
       "      <td>5642</td>\n",
       "      <td>2</td>\n",
       "      <td>Attchd</td>\n",
       "      <td>2</td>\n",
       "      <td>1418</td>\n",
       "      <td>160000</td>\n",
       "    </tr>\n",
       "  </tbody>\n",
       "</table>\n",
       "</div>"
      ],
      "text/plain": [
       "        Id  OverallQual  YearBuilt  TotalBsmtSF Electrical  GrLivArea  \\\n",
       "1260  1261           10       2008         6110      SBrkr       5642   \n",
       "\n",
       "      FullBath GarageType  GarageCars  GarageArea  SalePrice  \n",
       "1260         2     Attchd           2        1418     160000  "
      ]
     },
     "execution_count": 404,
     "metadata": {},
     "output_type": "execute_result"
    }
   ],
   "source": [
    "data[data['TotalBsmtSF']>5000]"
   ]
  },
  {
   "cell_type": "code",
   "execution_count": 405,
   "id": "6306e62e",
   "metadata": {},
   "outputs": [],
   "source": [
    "data.drop(index=1260,inplace=True)"
   ]
  },
  {
   "cell_type": "code",
   "execution_count": 406,
   "id": "622d7ec0",
   "metadata": {},
   "outputs": [
    {
     "data": {
      "image/png": "[encoded data removed]",
      "text/plain": [
       "<Figure size 432x288 with 1 Axes>"
      ]
     },
     "metadata": {
      "needs_background": "light"
     },
     "output_type": "display_data"
    }
   ],
   "source": [
    "sns.boxplot(data['TotalBsmtSF'])\n",
    "plt.show()"
   ]
  },
  {
   "cell_type": "code",
   "execution_count": 407,
   "id": "e8cc9047",
   "metadata": {},
   "outputs": [
    {
     "data": {
      "image/png": "[encoded data removed]",
      "text/plain": [
       "<Figure size 720x576 with 3 Axes>"
      ]
     },
     "metadata": {
      "needs_background": "light"
     },
     "output_type": "display_data"
    }
   ],
   "source": [
    "plt.figure(figsize=(10,8))\n",
    "plt.subplot(3,1,1)\n",
    "sns.boxplot(data['GrLivArea'])\n",
    "plt.xlabel('GrLivArea')\n",
    "plt.subplot(3,1,2)\n",
    "sns.boxplot(data['GarageArea'])\n",
    "plt.subplot(3,1,3)\n",
    "sns.boxplot(data['SalePrice'])\n",
    "plt.show()"
   ]
  },
  {
   "cell_type": "code",
   "execution_count": 408,
   "id": "c6cba736",
   "metadata": {},
   "outputs": [
    {
     "data": {
      "image/png": "[encoded data removed]",
      "text/plain": [
       "<Figure size 432x288 with 1 Axes>"
      ]
     },
     "metadata": {
      "needs_background": "light"
     },
     "output_type": "display_data"
    }
   ],
   "source": [
    "sns.scatterplot(x='SalePrice',y='GrLivArea',data=data)\n",
    "plt.show()"
   ]
  },
  {
   "cell_type": "code",
   "execution_count": 409,
   "id": "28ec8b0c",
   "metadata": {},
   "outputs": [
    {
     "data": {
      "text/html": [
       "<div>\n",
       "<style scoped>\n",
       "    .dataframe tbody tr th:only-of-type {\n",
       "        vertical-align: middle;\n",
       "    }\n",
       "\n",
       "    .dataframe tbody tr th {\n",
       "        vertical-align: top;\n",
       "    }\n",
       "\n",
       "    .dataframe thead th {\n",
       "        text-align: right;\n",
       "    }\n",
       "</style>\n",
       "<table border=\"1\" class=\"dataframe\">\n",
       "  <thead>\n",
       "    <tr style=\"text-align: right;\">\n",
       "      <th></th>\n",
       "      <th>Id</th>\n",
       "      <th>OverallQual</th>\n",
       "      <th>YearBuilt</th>\n",
       "      <th>TotalBsmtSF</th>\n",
       "      <th>Electrical</th>\n",
       "      <th>GrLivArea</th>\n",
       "      <th>FullBath</th>\n",
       "      <th>GarageType</th>\n",
       "      <th>GarageCars</th>\n",
       "      <th>GarageArea</th>\n",
       "      <th>SalePrice</th>\n",
       "    </tr>\n",
       "  </thead>\n",
       "  <tbody>\n",
       "    <tr>\n",
       "      <th>665</th>\n",
       "      <td>666</td>\n",
       "      <td>10</td>\n",
       "      <td>1994</td>\n",
       "      <td>2444</td>\n",
       "      <td>SBrkr</td>\n",
       "      <td>4316</td>\n",
       "      <td>3</td>\n",
       "      <td>Attchd</td>\n",
       "      <td>3</td>\n",
       "      <td>832</td>\n",
       "      <td>755000</td>\n",
       "    </tr>\n",
       "    <tr>\n",
       "      <th>1147</th>\n",
       "      <td>1148</td>\n",
       "      <td>10</td>\n",
       "      <td>1996</td>\n",
       "      <td>2396</td>\n",
       "      <td>SBrkr</td>\n",
       "      <td>4476</td>\n",
       "      <td>3</td>\n",
       "      <td>Attchd</td>\n",
       "      <td>3</td>\n",
       "      <td>813</td>\n",
       "      <td>745000</td>\n",
       "    </tr>\n",
       "  </tbody>\n",
       "</table>\n",
       "</div>"
      ],
      "text/plain": [
       "        Id  OverallQual  YearBuilt  TotalBsmtSF Electrical  GrLivArea  \\\n",
       "665    666           10       1994         2444      SBrkr       4316   \n",
       "1147  1148           10       1996         2396      SBrkr       4476   \n",
       "\n",
       "      FullBath GarageType  GarageCars  GarageArea  SalePrice  \n",
       "665          3     Attchd           3         832     755000  \n",
       "1147         3     Attchd           3         813     745000  "
      ]
     },
     "execution_count": 409,
     "metadata": {},
     "output_type": "execute_result"
    }
   ],
   "source": [
    "data[data['SalePrice']>700000]"
   ]
  },
  {
   "cell_type": "code",
   "execution_count": 410,
   "id": "8ad87290",
   "metadata": {},
   "outputs": [
    {
     "data": {
      "text/html": [
       "<div>\n",
       "<style scoped>\n",
       "    .dataframe tbody tr th:only-of-type {\n",
       "        vertical-align: middle;\n",
       "    }\n",
       "\n",
       "    .dataframe tbody tr th {\n",
       "        vertical-align: top;\n",
       "    }\n",
       "\n",
       "    .dataframe thead th {\n",
       "        text-align: right;\n",
       "    }\n",
       "</style>\n",
       "<table border=\"1\" class=\"dataframe\">\n",
       "  <thead>\n",
       "    <tr style=\"text-align: right;\">\n",
       "      <th></th>\n",
       "      <th>Id</th>\n",
       "      <th>OverallQual</th>\n",
       "      <th>YearBuilt</th>\n",
       "      <th>TotalBsmtSF</th>\n",
       "      <th>Electrical</th>\n",
       "      <th>GrLivArea</th>\n",
       "      <th>FullBath</th>\n",
       "      <th>GarageType</th>\n",
       "      <th>GarageCars</th>\n",
       "      <th>GarageArea</th>\n",
       "      <th>SalePrice</th>\n",
       "    </tr>\n",
       "  </thead>\n",
       "  <tbody>\n",
       "    <tr>\n",
       "      <th>500</th>\n",
       "      <td>501</td>\n",
       "      <td>10</td>\n",
       "      <td>2007</td>\n",
       "      <td>3138</td>\n",
       "      <td>SBrkr</td>\n",
       "      <td>4676</td>\n",
       "      <td>3</td>\n",
       "      <td>BuiltIn</td>\n",
       "      <td>3</td>\n",
       "      <td>884</td>\n",
       "      <td>184750</td>\n",
       "    </tr>\n",
       "    <tr>\n",
       "      <th>665</th>\n",
       "      <td>666</td>\n",
       "      <td>10</td>\n",
       "      <td>1994</td>\n",
       "      <td>2444</td>\n",
       "      <td>SBrkr</td>\n",
       "      <td>4316</td>\n",
       "      <td>3</td>\n",
       "      <td>Attchd</td>\n",
       "      <td>3</td>\n",
       "      <td>832</td>\n",
       "      <td>755000</td>\n",
       "    </tr>\n",
       "    <tr>\n",
       "      <th>1147</th>\n",
       "      <td>1148</td>\n",
       "      <td>10</td>\n",
       "      <td>1996</td>\n",
       "      <td>2396</td>\n",
       "      <td>SBrkr</td>\n",
       "      <td>4476</td>\n",
       "      <td>3</td>\n",
       "      <td>Attchd</td>\n",
       "      <td>3</td>\n",
       "      <td>813</td>\n",
       "      <td>745000</td>\n",
       "    </tr>\n",
       "  </tbody>\n",
       "</table>\n",
       "</div>"
      ],
      "text/plain": [
       "        Id  OverallQual  YearBuilt  TotalBsmtSF Electrical  GrLivArea  \\\n",
       "500    501           10       2007         3138      SBrkr       4676   \n",
       "665    666           10       1994         2444      SBrkr       4316   \n",
       "1147  1148           10       1996         2396      SBrkr       4476   \n",
       "\n",
       "      FullBath GarageType  GarageCars  GarageArea  SalePrice  \n",
       "500          3    BuiltIn           3         884     184750  \n",
       "665          3     Attchd           3         832     755000  \n",
       "1147         3     Attchd           3         813     745000  "
      ]
     },
     "execution_count": 410,
     "metadata": {},
     "output_type": "execute_result"
    }
   ],
   "source": [
    "data[data['GrLivArea']>4000]"
   ]
  },
  {
   "cell_type": "code",
   "execution_count": 411,
   "id": "8de18a81",
   "metadata": {},
   "outputs": [],
   "source": [
    "data.drop(index=500,inplace=True)"
   ]
  },
  {
   "cell_type": "code",
   "execution_count": 412,
   "id": "aeb4cbb7",
   "metadata": {},
   "outputs": [
    {
     "data": {
      "text/html": [
       "<div>\n",
       "<style scoped>\n",
       "    .dataframe tbody tr th:only-of-type {\n",
       "        vertical-align: middle;\n",
       "    }\n",
       "\n",
       "    .dataframe tbody tr th {\n",
       "        vertical-align: top;\n",
       "    }\n",
       "\n",
       "    .dataframe thead th {\n",
       "        text-align: right;\n",
       "    }\n",
       "</style>\n",
       "<table border=\"1\" class=\"dataframe\">\n",
       "  <thead>\n",
       "    <tr style=\"text-align: right;\">\n",
       "      <th></th>\n",
       "      <th>Id</th>\n",
       "      <th>OverallQual</th>\n",
       "      <th>YearBuilt</th>\n",
       "      <th>TotalBsmtSF</th>\n",
       "      <th>GrLivArea</th>\n",
       "      <th>FullBath</th>\n",
       "      <th>GarageCars</th>\n",
       "      <th>GarageArea</th>\n",
       "      <th>SalePrice</th>\n",
       "    </tr>\n",
       "  </thead>\n",
       "  <tbody>\n",
       "    <tr>\n",
       "      <th>count</th>\n",
       "      <td>1416.000000</td>\n",
       "      <td>1416.000000</td>\n",
       "      <td>1416.000000</td>\n",
       "      <td>1416.000000</td>\n",
       "      <td>1416.000000</td>\n",
       "      <td>1416.000000</td>\n",
       "      <td>1416.000000</td>\n",
       "      <td>1416.000000</td>\n",
       "      <td>1416.000000</td>\n",
       "    </tr>\n",
       "    <tr>\n",
       "      <th>mean</th>\n",
       "      <td>709.257768</td>\n",
       "      <td>6.108757</td>\n",
       "      <td>1971.550141</td>\n",
       "      <td>1056.680791</td>\n",
       "      <td>1514.504944</td>\n",
       "      <td>1.564266</td>\n",
       "      <td>1.762712</td>\n",
       "      <td>471.659605</td>\n",
       "      <td>182103.206921</td>\n",
       "    </tr>\n",
       "    <tr>\n",
       "      <th>std</th>\n",
       "      <td>409.474995</td>\n",
       "      <td>1.379110</td>\n",
       "      <td>30.055196</td>\n",
       "      <td>412.794439</td>\n",
       "      <td>509.392098</td>\n",
       "      <td>0.550073</td>\n",
       "      <td>0.755789</td>\n",
       "      <td>214.474979</td>\n",
       "      <td>80025.243732</td>\n",
       "    </tr>\n",
       "    <tr>\n",
       "      <th>min</th>\n",
       "      <td>1.000000</td>\n",
       "      <td>1.000000</td>\n",
       "      <td>1872.000000</td>\n",
       "      <td>0.000000</td>\n",
       "      <td>334.000000</td>\n",
       "      <td>0.000000</td>\n",
       "      <td>0.000000</td>\n",
       "      <td>0.000000</td>\n",
       "      <td>34900.000000</td>\n",
       "    </tr>\n",
       "    <tr>\n",
       "      <th>25%</th>\n",
       "      <td>354.750000</td>\n",
       "      <td>5.000000</td>\n",
       "      <td>1954.000000</td>\n",
       "      <td>796.000000</td>\n",
       "      <td>1131.750000</td>\n",
       "      <td>1.000000</td>\n",
       "      <td>1.000000</td>\n",
       "      <td>323.500000</td>\n",
       "      <td>130000.000000</td>\n",
       "    </tr>\n",
       "    <tr>\n",
       "      <th>50%</th>\n",
       "      <td>709.500000</td>\n",
       "      <td>6.000000</td>\n",
       "      <td>1973.000000</td>\n",
       "      <td>993.500000</td>\n",
       "      <td>1467.000000</td>\n",
       "      <td>2.000000</td>\n",
       "      <td>2.000000</td>\n",
       "      <td>478.000000</td>\n",
       "      <td>164800.000000</td>\n",
       "    </tr>\n",
       "    <tr>\n",
       "      <th>75%</th>\n",
       "      <td>1063.250000</td>\n",
       "      <td>7.000000</td>\n",
       "      <td>2001.000000</td>\n",
       "      <td>1302.000000</td>\n",
       "      <td>1784.500000</td>\n",
       "      <td>2.000000</td>\n",
       "      <td>2.000000</td>\n",
       "      <td>576.000000</td>\n",
       "      <td>215000.000000</td>\n",
       "    </tr>\n",
       "    <tr>\n",
       "      <th>max</th>\n",
       "      <td>1418.000000</td>\n",
       "      <td>10.000000</td>\n",
       "      <td>2010.000000</td>\n",
       "      <td>3206.000000</td>\n",
       "      <td>4476.000000</td>\n",
       "      <td>3.000000</td>\n",
       "      <td>4.000000</td>\n",
       "      <td>1390.000000</td>\n",
       "      <td>755000.000000</td>\n",
       "    </tr>\n",
       "  </tbody>\n",
       "</table>\n",
       "</div>"
      ],
      "text/plain": [
       "                Id  OverallQual    YearBuilt  TotalBsmtSF    GrLivArea  \\\n",
       "count  1416.000000  1416.000000  1416.000000  1416.000000  1416.000000   \n",
       "mean    709.257768     6.108757  1971.550141  1056.680791  1514.504944   \n",
       "std     409.474995     1.379110    30.055196   412.794439   509.392098   \n",
       "min       1.000000     1.000000  1872.000000     0.000000   334.000000   \n",
       "25%     354.750000     5.000000  1954.000000   796.000000  1131.750000   \n",
       "50%     709.500000     6.000000  1973.000000   993.500000  1467.000000   \n",
       "75%    1063.250000     7.000000  2001.000000  1302.000000  1784.500000   \n",
       "max    1418.000000    10.000000  2010.000000  3206.000000  4476.000000   \n",
       "\n",
       "          FullBath   GarageCars   GarageArea      SalePrice  \n",
       "count  1416.000000  1416.000000  1416.000000    1416.000000  \n",
       "mean      1.564266     1.762712   471.659605  182103.206921  \n",
       "std       0.550073     0.755789   214.474979   80025.243732  \n",
       "min       0.000000     0.000000     0.000000   34900.000000  \n",
       "25%       1.000000     1.000000   323.500000  130000.000000  \n",
       "50%       2.000000     2.000000   478.000000  164800.000000  \n",
       "75%       2.000000     2.000000   576.000000  215000.000000  \n",
       "max       3.000000     4.000000  1390.000000  755000.000000  "
      ]
     },
     "execution_count": 412,
     "metadata": {},
     "output_type": "execute_result"
    }
   ],
   "source": [
    "data.describe()"
   ]
  },
  {
   "cell_type": "code",
   "execution_count": 413,
   "id": "de44864f",
   "metadata": {},
   "outputs": [],
   "source": [
    "# Feature Selection -- kon kon se rakhnehai kon kon se hatane hai"
   ]
  },
  {
   "cell_type": "code",
   "execution_count": 414,
   "id": "106eb32e",
   "metadata": {},
   "outputs": [
    {
     "data": {
      "image/png": "[encoded data removed]",
      "text/plain": [
       "<Figure size 720x504 with 2 Axes>"
      ]
     },
     "metadata": {
      "needs_background": "light"
     },
     "output_type": "display_data"
    }
   ],
   "source": [
    "corrD=data.corr()\n",
    "plt.figure(figsize=(10,7))\n",
    "sns.heatmap(corrD,annot=True,vmax=1,vmin=-1,cmap='turbo_r')\n",
    "plt.show()"
   ]
  },
  {
   "cell_type": "code",
   "execution_count": 415,
   "id": "0b07a257",
   "metadata": {},
   "outputs": [],
   "source": [
    "#  drop garagecar it has high correlation witth garagearea \n",
    "# secondly it is categorical coloumn which is less important tha continous column"
   ]
  },
  {
   "cell_type": "code",
   "execution_count": 416,
   "id": "a0ca971c",
   "metadata": {},
   "outputs": [],
   "source": [
    "data.drop(columns=['Id','GarageCars'],inplace=True)"
   ]
  },
  {
   "cell_type": "markdown",
   "id": "5a25aa20",
   "metadata": {},
   "source": [
    "## Feature Engineering"
   ]
  },
  {
   "cell_type": "code",
   "execution_count": 417,
   "id": "b998a679",
   "metadata": {},
   "outputs": [],
   "source": [
    "#linear,square,exponential\n",
    "# linear- x'=x\n",
    "# square- x'=sqrt(x)\n",
    "# expo- x'=ln(x)\n",
    "# poly- y^m=x^n\n",
    "#       mlog(y)=nlog(x\n",
    "\n",
    "#linear transforamtion\n",
    "\n",
    "# Non-Numerical to numeric columns\n",
    "#  1. Dummies- create 3 column for one and zero\n",
    "#  2. using label encoding\n",
    "#    0-red,1-green,2-blue\n",
    "#  3. Using one hot encoding\n",
    "#     [[1,0,0],[0,1,0]]"
   ]
  },
  {
   "cell_type": "code",
   "execution_count": 419,
   "id": "5ba58554",
   "metadata": {},
   "outputs": [],
   "source": [
    "data=pd.get_dummies(data)"
   ]
  },
  {
   "cell_type": "code",
   "execution_count": 422,
   "id": "ae3c7ad3",
   "metadata": {},
   "outputs": [
    {
     "data": {
      "text/html": [
       "<div>\n",
       "<style scoped>\n",
       "    .dataframe tbody tr th:only-of-type {\n",
       "        vertical-align: middle;\n",
       "    }\n",
       "\n",
       "    .dataframe tbody tr th {\n",
       "        vertical-align: top;\n",
       "    }\n",
       "\n",
       "    .dataframe thead th {\n",
       "        text-align: right;\n",
       "    }\n",
       "</style>\n",
       "<table border=\"1\" class=\"dataframe\">\n",
       "  <thead>\n",
       "    <tr style=\"text-align: right;\">\n",
       "      <th></th>\n",
       "      <th>OverallQual</th>\n",
       "      <th>YearBuilt</th>\n",
       "      <th>TotalBsmtSF</th>\n",
       "      <th>GrLivArea</th>\n",
       "      <th>FullBath</th>\n",
       "      <th>GarageArea</th>\n",
       "      <th>SalePrice</th>\n",
       "      <th>Electrical_FuseA</th>\n",
       "      <th>Electrical_FuseF</th>\n",
       "      <th>Electrical_FuseP</th>\n",
       "      <th>Electrical_Mix</th>\n",
       "      <th>Electrical_SBrkr</th>\n",
       "      <th>GarageType_2Types</th>\n",
       "      <th>GarageType_Attchd</th>\n",
       "      <th>GarageType_Basment</th>\n",
       "      <th>GarageType_BuiltIn</th>\n",
       "      <th>GarageType_CarPort</th>\n",
       "      <th>GarageType_Detchd</th>\n",
       "      <th>GarageType_NoGarage</th>\n",
       "    </tr>\n",
       "  </thead>\n",
       "  <tbody>\n",
       "    <tr>\n",
       "      <th>0</th>\n",
       "      <td>7</td>\n",
       "      <td>2003</td>\n",
       "      <td>856</td>\n",
       "      <td>1710</td>\n",
       "      <td>2</td>\n",
       "      <td>548</td>\n",
       "      <td>208500</td>\n",
       "      <td>0</td>\n",
       "      <td>0</td>\n",
       "      <td>0</td>\n",
       "      <td>0</td>\n",
       "      <td>1</td>\n",
       "      <td>0</td>\n",
       "      <td>1</td>\n",
       "      <td>0</td>\n",
       "      <td>0</td>\n",
       "      <td>0</td>\n",
       "      <td>0</td>\n",
       "      <td>0</td>\n",
       "    </tr>\n",
       "    <tr>\n",
       "      <th>1</th>\n",
       "      <td>6</td>\n",
       "      <td>1976</td>\n",
       "      <td>1262</td>\n",
       "      <td>1262</td>\n",
       "      <td>2</td>\n",
       "      <td>460</td>\n",
       "      <td>181500</td>\n",
       "      <td>0</td>\n",
       "      <td>0</td>\n",
       "      <td>0</td>\n",
       "      <td>0</td>\n",
       "      <td>1</td>\n",
       "      <td>0</td>\n",
       "      <td>1</td>\n",
       "      <td>0</td>\n",
       "      <td>0</td>\n",
       "      <td>0</td>\n",
       "      <td>0</td>\n",
       "      <td>0</td>\n",
       "    </tr>\n",
       "    <tr>\n",
       "      <th>2</th>\n",
       "      <td>7</td>\n",
       "      <td>2001</td>\n",
       "      <td>920</td>\n",
       "      <td>1786</td>\n",
       "      <td>2</td>\n",
       "      <td>608</td>\n",
       "      <td>223500</td>\n",
       "      <td>0</td>\n",
       "      <td>0</td>\n",
       "      <td>0</td>\n",
       "      <td>0</td>\n",
       "      <td>1</td>\n",
       "      <td>0</td>\n",
       "      <td>1</td>\n",
       "      <td>0</td>\n",
       "      <td>0</td>\n",
       "      <td>0</td>\n",
       "      <td>0</td>\n",
       "      <td>0</td>\n",
       "    </tr>\n",
       "    <tr>\n",
       "      <th>3</th>\n",
       "      <td>7</td>\n",
       "      <td>1915</td>\n",
       "      <td>756</td>\n",
       "      <td>1717</td>\n",
       "      <td>1</td>\n",
       "      <td>642</td>\n",
       "      <td>140000</td>\n",
       "      <td>0</td>\n",
       "      <td>0</td>\n",
       "      <td>0</td>\n",
       "      <td>0</td>\n",
       "      <td>1</td>\n",
       "      <td>0</td>\n",
       "      <td>0</td>\n",
       "      <td>0</td>\n",
       "      <td>0</td>\n",
       "      <td>0</td>\n",
       "      <td>1</td>\n",
       "      <td>0</td>\n",
       "    </tr>\n",
       "    <tr>\n",
       "      <th>4</th>\n",
       "      <td>8</td>\n",
       "      <td>2000</td>\n",
       "      <td>1145</td>\n",
       "      <td>2198</td>\n",
       "      <td>2</td>\n",
       "      <td>836</td>\n",
       "      <td>250000</td>\n",
       "      <td>0</td>\n",
       "      <td>0</td>\n",
       "      <td>0</td>\n",
       "      <td>0</td>\n",
       "      <td>1</td>\n",
       "      <td>0</td>\n",
       "      <td>1</td>\n",
       "      <td>0</td>\n",
       "      <td>0</td>\n",
       "      <td>0</td>\n",
       "      <td>0</td>\n",
       "      <td>0</td>\n",
       "    </tr>\n",
       "    <tr>\n",
       "      <th>...</th>\n",
       "      <td>...</td>\n",
       "      <td>...</td>\n",
       "      <td>...</td>\n",
       "      <td>...</td>\n",
       "      <td>...</td>\n",
       "      <td>...</td>\n",
       "      <td>...</td>\n",
       "      <td>...</td>\n",
       "      <td>...</td>\n",
       "      <td>...</td>\n",
       "      <td>...</td>\n",
       "      <td>...</td>\n",
       "      <td>...</td>\n",
       "      <td>...</td>\n",
       "      <td>...</td>\n",
       "      <td>...</td>\n",
       "      <td>...</td>\n",
       "      <td>...</td>\n",
       "      <td>...</td>\n",
       "    </tr>\n",
       "    <tr>\n",
       "      <th>1413</th>\n",
       "      <td>6</td>\n",
       "      <td>1999</td>\n",
       "      <td>953</td>\n",
       "      <td>1647</td>\n",
       "      <td>2</td>\n",
       "      <td>460</td>\n",
       "      <td>175000</td>\n",
       "      <td>0</td>\n",
       "      <td>0</td>\n",
       "      <td>0</td>\n",
       "      <td>0</td>\n",
       "      <td>1</td>\n",
       "      <td>0</td>\n",
       "      <td>1</td>\n",
       "      <td>0</td>\n",
       "      <td>0</td>\n",
       "      <td>0</td>\n",
       "      <td>0</td>\n",
       "      <td>0</td>\n",
       "    </tr>\n",
       "    <tr>\n",
       "      <th>1414</th>\n",
       "      <td>6</td>\n",
       "      <td>1978</td>\n",
       "      <td>1542</td>\n",
       "      <td>2073</td>\n",
       "      <td>2</td>\n",
       "      <td>500</td>\n",
       "      <td>210000</td>\n",
       "      <td>0</td>\n",
       "      <td>0</td>\n",
       "      <td>0</td>\n",
       "      <td>0</td>\n",
       "      <td>1</td>\n",
       "      <td>0</td>\n",
       "      <td>1</td>\n",
       "      <td>0</td>\n",
       "      <td>0</td>\n",
       "      <td>0</td>\n",
       "      <td>0</td>\n",
       "      <td>0</td>\n",
       "    </tr>\n",
       "    <tr>\n",
       "      <th>1415</th>\n",
       "      <td>7</td>\n",
       "      <td>1941</td>\n",
       "      <td>1152</td>\n",
       "      <td>2340</td>\n",
       "      <td>2</td>\n",
       "      <td>252</td>\n",
       "      <td>266500</td>\n",
       "      <td>0</td>\n",
       "      <td>0</td>\n",
       "      <td>0</td>\n",
       "      <td>0</td>\n",
       "      <td>1</td>\n",
       "      <td>0</td>\n",
       "      <td>1</td>\n",
       "      <td>0</td>\n",
       "      <td>0</td>\n",
       "      <td>0</td>\n",
       "      <td>0</td>\n",
       "      <td>0</td>\n",
       "    </tr>\n",
       "    <tr>\n",
       "      <th>1416</th>\n",
       "      <td>5</td>\n",
       "      <td>1950</td>\n",
       "      <td>1078</td>\n",
       "      <td>1078</td>\n",
       "      <td>1</td>\n",
       "      <td>240</td>\n",
       "      <td>142125</td>\n",
       "      <td>1</td>\n",
       "      <td>0</td>\n",
       "      <td>0</td>\n",
       "      <td>0</td>\n",
       "      <td>0</td>\n",
       "      <td>0</td>\n",
       "      <td>0</td>\n",
       "      <td>0</td>\n",
       "      <td>0</td>\n",
       "      <td>0</td>\n",
       "      <td>1</td>\n",
       "      <td>0</td>\n",
       "    </tr>\n",
       "    <tr>\n",
       "      <th>1417</th>\n",
       "      <td>5</td>\n",
       "      <td>1965</td>\n",
       "      <td>1256</td>\n",
       "      <td>1256</td>\n",
       "      <td>1</td>\n",
       "      <td>276</td>\n",
       "      <td>147500</td>\n",
       "      <td>0</td>\n",
       "      <td>0</td>\n",
       "      <td>0</td>\n",
       "      <td>0</td>\n",
       "      <td>1</td>\n",
       "      <td>0</td>\n",
       "      <td>1</td>\n",
       "      <td>0</td>\n",
       "      <td>0</td>\n",
       "      <td>0</td>\n",
       "      <td>0</td>\n",
       "      <td>0</td>\n",
       "    </tr>\n",
       "  </tbody>\n",
       "</table>\n",
       "<p>1416 rows × 19 columns</p>\n",
       "</div>"
      ],
      "text/plain": [
       "      OverallQual  YearBuilt  TotalBsmtSF  GrLivArea  FullBath  GarageArea  \\\n",
       "0               7       2003          856       1710         2         548   \n",
       "1               6       1976         1262       1262         2         460   \n",
       "2               7       2001          920       1786         2         608   \n",
       "3               7       1915          756       1717         1         642   \n",
       "4               8       2000         1145       2198         2         836   \n",
       "...           ...        ...          ...        ...       ...         ...   \n",
       "1413            6       1999          953       1647         2         460   \n",
       "1414            6       1978         1542       2073         2         500   \n",
       "1415            7       1941         1152       2340         2         252   \n",
       "1416            5       1950         1078       1078         1         240   \n",
       "1417            5       1965         1256       1256         1         276   \n",
       "\n",
       "      SalePrice  Electrical_FuseA  Electrical_FuseF  Electrical_FuseP  \\\n",
       "0        208500                 0                 0                 0   \n",
       "1        181500                 0                 0                 0   \n",
       "2        223500                 0                 0                 0   \n",
       "3        140000                 0                 0                 0   \n",
       "4        250000                 0                 0                 0   \n",
       "...         ...               ...               ...               ...   \n",
       "1413     175000                 0                 0                 0   \n",
       "1414     210000                 0                 0                 0   \n",
       "1415     266500                 0                 0                 0   \n",
       "1416     142125                 1                 0                 0   \n",
       "1417     147500                 0                 0                 0   \n",
       "\n",
       "      Electrical_Mix  Electrical_SBrkr  GarageType_2Types  GarageType_Attchd  \\\n",
       "0                  0                 1                  0                  1   \n",
       "1                  0                 1                  0                  1   \n",
       "2                  0                 1                  0                  1   \n",
       "3                  0                 1                  0                  0   \n",
       "4                  0                 1                  0                  1   \n",
       "...              ...               ...                ...                ...   \n",
       "1413               0                 1                  0                  1   \n",
       "1414               0                 1                  0                  1   \n",
       "1415               0                 1                  0                  1   \n",
       "1416               0                 0                  0                  0   \n",
       "1417               0                 1                  0                  1   \n",
       "\n",
       "      GarageType_Basment  GarageType_BuiltIn  GarageType_CarPort  \\\n",
       "0                      0                   0                   0   \n",
       "1                      0                   0                   0   \n",
       "2                      0                   0                   0   \n",
       "3                      0                   0                   0   \n",
       "4                      0                   0                   0   \n",
       "...                  ...                 ...                 ...   \n",
       "1413                   0                   0                   0   \n",
       "1414                   0                   0                   0   \n",
       "1415                   0                   0                   0   \n",
       "1416                   0                   0                   0   \n",
       "1417                   0                   0                   0   \n",
       "\n",
       "      GarageType_Detchd  GarageType_NoGarage  \n",
       "0                     0                    0  \n",
       "1                     0                    0  \n",
       "2                     0                    0  \n",
       "3                     1                    0  \n",
       "4                     0                    0  \n",
       "...                 ...                  ...  \n",
       "1413                  0                    0  \n",
       "1414                  0                    0  \n",
       "1415                  0                    0  \n",
       "1416                  1                    0  \n",
       "1417                  0                    0  \n",
       "\n",
       "[1416 rows x 19 columns]"
      ]
     },
     "execution_count": 422,
     "metadata": {},
     "output_type": "execute_result"
    }
   ],
   "source": [
    "data"
   ]
  },
  {
   "cell_type": "code",
   "execution_count": 232,
   "id": "8353c71f",
   "metadata": {},
   "outputs": [
    {
     "name": "stdout",
     "output_type": "stream",
     "text": [
      "<class 'pandas.core.frame.DataFrame'>\n",
      "Int64Index: 1416 entries, 0 to 1417\n",
      "Data columns (total 19 columns):\n",
      " #   Column               Non-Null Count  Dtype\n",
      "---  ------               --------------  -----\n",
      " 0   OverallQual          1416 non-null   int64\n",
      " 1   YearBuilt            1416 non-null   int64\n",
      " 2   TotalBsmtSF          1416 non-null   int64\n",
      " 3   GrLivArea            1416 non-null   int64\n",
      " 4   FullBath             1416 non-null   int64\n",
      " 5   GarageArea           1416 non-null   int64\n",
      " 6   SalePrice            1416 non-null   int64\n",
      " 7   Electrical_FuseA     1416 non-null   uint8\n",
      " 8   Electrical_FuseF     1416 non-null   uint8\n",
      " 9   Electrical_FuseP     1416 non-null   uint8\n",
      " 10  Electrical_Mix       1416 non-null   uint8\n",
      " 11  Electrical_SBrkr     1416 non-null   uint8\n",
      " 12  GarageType_2Types    1416 non-null   uint8\n",
      " 13  GarageType_Attchd    1416 non-null   uint8\n",
      " 14  GarageType_Basment   1416 non-null   uint8\n",
      " 15  GarageType_BuiltIn   1416 non-null   uint8\n",
      " 16  GarageType_CarPort   1416 non-null   uint8\n",
      " 17  GarageType_Detchd    1416 non-null   uint8\n",
      " 18  GarageType_NoGarage  1416 non-null   uint8\n",
      "dtypes: int64(7), uint8(12)\n",
      "memory usage: 105.1 KB\n"
     ]
    }
   ],
   "source": [
    "data.info()"
   ]
  },
  {
   "cell_type": "markdown",
   "id": "649c6e96",
   "metadata": {},
   "source": [
    "### Feature Scaling- distance based model requires scaling.."
   ]
  },
  {
   "cell_type": "code",
   "execution_count": 423,
   "id": "11b206a0",
   "metadata": {},
   "outputs": [],
   "source": [
    "from sklearn.preprocessing import StandardScaler"
   ]
  },
  {
   "cell_type": "code",
   "execution_count": 425,
   "id": "fd08480b",
   "metadata": {},
   "outputs": [
    {
     "data": {
      "text/plain": [
       "sklearn.preprocessing._data.StandardScaler"
      ]
     },
     "execution_count": 425,
     "metadata": {},
     "output_type": "execute_result"
    }
   ],
   "source": [
    "sc=StandardScaler()\n",
    "type(sc)"
   ]
  },
  {
   "cell_type": "code",
   "execution_count": 235,
   "id": "cc0fb4f9",
   "metadata": {},
   "outputs": [],
   "source": [
    "data_s=sc.fit_transform(data)"
   ]
  },
  {
   "cell_type": "code",
   "execution_count": 236,
   "id": "f10437e5",
   "metadata": {},
   "outputs": [
    {
     "data": {
      "text/plain": [
       "array([[ 0.6464733 ,  1.04677308, -0.48632363, ..., -0.07997868,\n",
       "        -0.64498062, -0.24632125],\n",
       "       [-0.07888818,  0.14810853,  0.49756423, ..., -0.07997868,\n",
       "        -0.64498062, -0.24632125],\n",
       "       [ 0.6464733 ,  0.98020533, -0.33122801, ..., -0.07997868,\n",
       "        -0.64498062, -0.24632125],\n",
       "       ...,\n",
       "       [ 0.6464733 , -1.01682699,  0.23099363, ..., -0.07997868,\n",
       "        -0.64498062, -0.24632125],\n",
       "       [-0.80424967, -0.71727214,  0.05166431, ..., -0.07997868,\n",
       "         1.55043418, -0.24632125],\n",
       "       [-0.80424967, -0.21801406,  0.48302401, ..., -0.07997868,\n",
       "        -0.64498062, -0.24632125]])"
      ]
     },
     "execution_count": 236,
     "metadata": {},
     "output_type": "execute_result"
    }
   ],
   "source": [
    "data_s"
   ]
  },
  {
   "cell_type": "code",
   "execution_count": 237,
   "id": "71bd76bf",
   "metadata": {},
   "outputs": [
    {
     "data": {
      "text/html": [
       "<div>\n",
       "<style scoped>\n",
       "    .dataframe tbody tr th:only-of-type {\n",
       "        vertical-align: middle;\n",
       "    }\n",
       "\n",
       "    .dataframe tbody tr th {\n",
       "        vertical-align: top;\n",
       "    }\n",
       "\n",
       "    .dataframe thead th {\n",
       "        text-align: right;\n",
       "    }\n",
       "</style>\n",
       "<table border=\"1\" class=\"dataframe\">\n",
       "  <thead>\n",
       "    <tr style=\"text-align: right;\">\n",
       "      <th></th>\n",
       "      <th>OverallQual</th>\n",
       "      <th>YearBuilt</th>\n",
       "      <th>TotalBsmtSF</th>\n",
       "      <th>GrLivArea</th>\n",
       "      <th>FullBath</th>\n",
       "      <th>GarageArea</th>\n",
       "      <th>SalePrice</th>\n",
       "      <th>Electrical_FuseA</th>\n",
       "      <th>Electrical_FuseF</th>\n",
       "      <th>Electrical_FuseP</th>\n",
       "      <th>Electrical_Mix</th>\n",
       "      <th>Electrical_SBrkr</th>\n",
       "      <th>GarageType_2Types</th>\n",
       "      <th>GarageType_Attchd</th>\n",
       "      <th>GarageType_Basment</th>\n",
       "      <th>GarageType_BuiltIn</th>\n",
       "      <th>GarageType_CarPort</th>\n",
       "      <th>GarageType_Detchd</th>\n",
       "      <th>GarageType_NoGarage</th>\n",
       "    </tr>\n",
       "  </thead>\n",
       "  <tbody>\n",
       "    <tr>\n",
       "      <th>0</th>\n",
       "      <td>0.646473</td>\n",
       "      <td>1.046773</td>\n",
       "      <td>-0.486324</td>\n",
       "      <td>0.383917</td>\n",
       "      <td>0.792419</td>\n",
       "      <td>0.356067</td>\n",
       "      <td>0.329972</td>\n",
       "      <td>-0.258976</td>\n",
       "      <td>-0.131306</td>\n",
       "      <td>-0.046078</td>\n",
       "      <td>-0.026584</td>\n",
       "      <td>0.300115</td>\n",
       "      <td>-0.065233</td>\n",
       "      <td>0.878758</td>\n",
       "      <td>-0.116621</td>\n",
       "      <td>-0.254287</td>\n",
       "      <td>-0.079979</td>\n",
       "      <td>-0.644981</td>\n",
       "      <td>-0.246321</td>\n",
       "    </tr>\n",
       "    <tr>\n",
       "      <th>1</th>\n",
       "      <td>-0.078888</td>\n",
       "      <td>0.148109</td>\n",
       "      <td>0.497564</td>\n",
       "      <td>-0.495874</td>\n",
       "      <td>0.792419</td>\n",
       "      <td>-0.054383</td>\n",
       "      <td>-0.007540</td>\n",
       "      <td>-0.258976</td>\n",
       "      <td>-0.131306</td>\n",
       "      <td>-0.046078</td>\n",
       "      <td>-0.026584</td>\n",
       "      <td>0.300115</td>\n",
       "      <td>-0.065233</td>\n",
       "      <td>0.878758</td>\n",
       "      <td>-0.116621</td>\n",
       "      <td>-0.254287</td>\n",
       "      <td>-0.079979</td>\n",
       "      <td>-0.644981</td>\n",
       "      <td>-0.246321</td>\n",
       "    </tr>\n",
       "    <tr>\n",
       "      <th>2</th>\n",
       "      <td>0.646473</td>\n",
       "      <td>0.980205</td>\n",
       "      <td>-0.331228</td>\n",
       "      <td>0.533167</td>\n",
       "      <td>0.792419</td>\n",
       "      <td>0.635918</td>\n",
       "      <td>0.517479</td>\n",
       "      <td>-0.258976</td>\n",
       "      <td>-0.131306</td>\n",
       "      <td>-0.046078</td>\n",
       "      <td>-0.026584</td>\n",
       "      <td>0.300115</td>\n",
       "      <td>-0.065233</td>\n",
       "      <td>0.878758</td>\n",
       "      <td>-0.116621</td>\n",
       "      <td>-0.254287</td>\n",
       "      <td>-0.079979</td>\n",
       "      <td>-0.644981</td>\n",
       "      <td>-0.246321</td>\n",
       "    </tr>\n",
       "    <tr>\n",
       "      <th>3</th>\n",
       "      <td>0.646473</td>\n",
       "      <td>-1.882208</td>\n",
       "      <td>-0.728661</td>\n",
       "      <td>0.397663</td>\n",
       "      <td>-1.026163</td>\n",
       "      <td>0.794501</td>\n",
       "      <td>-0.526310</td>\n",
       "      <td>-0.258976</td>\n",
       "      <td>-0.131306</td>\n",
       "      <td>-0.046078</td>\n",
       "      <td>-0.026584</td>\n",
       "      <td>0.300115</td>\n",
       "      <td>-0.065233</td>\n",
       "      <td>-1.137970</td>\n",
       "      <td>-0.116621</td>\n",
       "      <td>-0.254287</td>\n",
       "      <td>-0.079979</td>\n",
       "      <td>1.550434</td>\n",
       "      <td>-0.246321</td>\n",
       "    </tr>\n",
       "    <tr>\n",
       "      <th>4</th>\n",
       "      <td>1.371835</td>\n",
       "      <td>0.946921</td>\n",
       "      <td>0.214030</td>\n",
       "      <td>1.342260</td>\n",
       "      <td>0.792419</td>\n",
       "      <td>1.699355</td>\n",
       "      <td>0.848742</td>\n",
       "      <td>-0.258976</td>\n",
       "      <td>-0.131306</td>\n",
       "      <td>-0.046078</td>\n",
       "      <td>-0.026584</td>\n",
       "      <td>0.300115</td>\n",
       "      <td>-0.065233</td>\n",
       "      <td>0.878758</td>\n",
       "      <td>-0.116621</td>\n",
       "      <td>-0.254287</td>\n",
       "      <td>-0.079979</td>\n",
       "      <td>-0.644981</td>\n",
       "      <td>-0.246321</td>\n",
       "    </tr>\n",
       "    <tr>\n",
       "      <th>...</th>\n",
       "      <td>...</td>\n",
       "      <td>...</td>\n",
       "      <td>...</td>\n",
       "      <td>...</td>\n",
       "      <td>...</td>\n",
       "      <td>...</td>\n",
       "      <td>...</td>\n",
       "      <td>...</td>\n",
       "      <td>...</td>\n",
       "      <td>...</td>\n",
       "      <td>...</td>\n",
       "      <td>...</td>\n",
       "      <td>...</td>\n",
       "      <td>...</td>\n",
       "      <td>...</td>\n",
       "      <td>...</td>\n",
       "      <td>...</td>\n",
       "      <td>...</td>\n",
       "      <td>...</td>\n",
       "    </tr>\n",
       "    <tr>\n",
       "      <th>1411</th>\n",
       "      <td>-0.078888</td>\n",
       "      <td>0.913638</td>\n",
       "      <td>-0.251257</td>\n",
       "      <td>0.260196</td>\n",
       "      <td>0.792419</td>\n",
       "      <td>-0.054383</td>\n",
       "      <td>-0.088793</td>\n",
       "      <td>-0.258976</td>\n",
       "      <td>-0.131306</td>\n",
       "      <td>-0.046078</td>\n",
       "      <td>-0.026584</td>\n",
       "      <td>0.300115</td>\n",
       "      <td>-0.065233</td>\n",
       "      <td>0.878758</td>\n",
       "      <td>-0.116621</td>\n",
       "      <td>-0.254287</td>\n",
       "      <td>-0.079979</td>\n",
       "      <td>-0.644981</td>\n",
       "      <td>-0.246321</td>\n",
       "    </tr>\n",
       "    <tr>\n",
       "      <th>1412</th>\n",
       "      <td>-0.078888</td>\n",
       "      <td>0.214676</td>\n",
       "      <td>1.176108</td>\n",
       "      <td>1.096783</td>\n",
       "      <td>0.792419</td>\n",
       "      <td>0.132185</td>\n",
       "      <td>0.348723</td>\n",
       "      <td>-0.258976</td>\n",
       "      <td>-0.131306</td>\n",
       "      <td>-0.046078</td>\n",
       "      <td>-0.026584</td>\n",
       "      <td>0.300115</td>\n",
       "      <td>-0.065233</td>\n",
       "      <td>0.878758</td>\n",
       "      <td>-0.116621</td>\n",
       "      <td>-0.254287</td>\n",
       "      <td>-0.079979</td>\n",
       "      <td>-0.644981</td>\n",
       "      <td>-0.246321</td>\n",
       "    </tr>\n",
       "    <tr>\n",
       "      <th>1413</th>\n",
       "      <td>0.646473</td>\n",
       "      <td>-1.016827</td>\n",
       "      <td>0.230994</td>\n",
       "      <td>1.621122</td>\n",
       "      <td>0.792419</td>\n",
       "      <td>-1.024535</td>\n",
       "      <td>1.055000</td>\n",
       "      <td>-0.258976</td>\n",
       "      <td>-0.131306</td>\n",
       "      <td>-0.046078</td>\n",
       "      <td>-0.026584</td>\n",
       "      <td>0.300115</td>\n",
       "      <td>-0.065233</td>\n",
       "      <td>0.878758</td>\n",
       "      <td>-0.116621</td>\n",
       "      <td>-0.254287</td>\n",
       "      <td>-0.079979</td>\n",
       "      <td>-0.644981</td>\n",
       "      <td>-0.246321</td>\n",
       "    </tr>\n",
       "    <tr>\n",
       "      <th>1414</th>\n",
       "      <td>-0.804250</td>\n",
       "      <td>-0.717272</td>\n",
       "      <td>0.051664</td>\n",
       "      <td>-0.857216</td>\n",
       "      <td>-1.026163</td>\n",
       "      <td>-1.080506</td>\n",
       "      <td>-0.499746</td>\n",
       "      <td>3.861361</td>\n",
       "      <td>-0.131306</td>\n",
       "      <td>-0.046078</td>\n",
       "      <td>-0.026584</td>\n",
       "      <td>-3.332051</td>\n",
       "      <td>-0.065233</td>\n",
       "      <td>-1.137970</td>\n",
       "      <td>-0.116621</td>\n",
       "      <td>-0.254287</td>\n",
       "      <td>-0.079979</td>\n",
       "      <td>1.550434</td>\n",
       "      <td>-0.246321</td>\n",
       "    </tr>\n",
       "    <tr>\n",
       "      <th>1415</th>\n",
       "      <td>-0.804250</td>\n",
       "      <td>-0.218014</td>\n",
       "      <td>0.483024</td>\n",
       "      <td>-0.507657</td>\n",
       "      <td>-1.026163</td>\n",
       "      <td>-0.912595</td>\n",
       "      <td>-0.432556</td>\n",
       "      <td>-0.258976</td>\n",
       "      <td>-0.131306</td>\n",
       "      <td>-0.046078</td>\n",
       "      <td>-0.026584</td>\n",
       "      <td>0.300115</td>\n",
       "      <td>-0.065233</td>\n",
       "      <td>0.878758</td>\n",
       "      <td>-0.116621</td>\n",
       "      <td>-0.254287</td>\n",
       "      <td>-0.079979</td>\n",
       "      <td>-0.644981</td>\n",
       "      <td>-0.246321</td>\n",
       "    </tr>\n",
       "  </tbody>\n",
       "</table>\n",
       "<p>1416 rows × 19 columns</p>\n",
       "</div>"
      ],
      "text/plain": [
       "      OverallQual  YearBuilt  TotalBsmtSF  GrLivArea  FullBath  GarageArea  \\\n",
       "0        0.646473   1.046773    -0.486324   0.383917  0.792419    0.356067   \n",
       "1       -0.078888   0.148109     0.497564  -0.495874  0.792419   -0.054383   \n",
       "2        0.646473   0.980205    -0.331228   0.533167  0.792419    0.635918   \n",
       "3        0.646473  -1.882208    -0.728661   0.397663 -1.026163    0.794501   \n",
       "4        1.371835   0.946921     0.214030   1.342260  0.792419    1.699355   \n",
       "...           ...        ...          ...        ...       ...         ...   \n",
       "1411    -0.078888   0.913638    -0.251257   0.260196  0.792419   -0.054383   \n",
       "1412    -0.078888   0.214676     1.176108   1.096783  0.792419    0.132185   \n",
       "1413     0.646473  -1.016827     0.230994   1.621122  0.792419   -1.024535   \n",
       "1414    -0.804250  -0.717272     0.051664  -0.857216 -1.026163   -1.080506   \n",
       "1415    -0.804250  -0.218014     0.483024  -0.507657 -1.026163   -0.912595   \n",
       "\n",
       "      SalePrice  Electrical_FuseA  Electrical_FuseF  Electrical_FuseP  \\\n",
       "0      0.329972         -0.258976         -0.131306         -0.046078   \n",
       "1     -0.007540         -0.258976         -0.131306         -0.046078   \n",
       "2      0.517479         -0.258976         -0.131306         -0.046078   \n",
       "3     -0.526310         -0.258976         -0.131306         -0.046078   \n",
       "4      0.848742         -0.258976         -0.131306         -0.046078   \n",
       "...         ...               ...               ...               ...   \n",
       "1411  -0.088793         -0.258976         -0.131306         -0.046078   \n",
       "1412   0.348723         -0.258976         -0.131306         -0.046078   \n",
       "1413   1.055000         -0.258976         -0.131306         -0.046078   \n",
       "1414  -0.499746          3.861361         -0.131306         -0.046078   \n",
       "1415  -0.432556         -0.258976         -0.131306         -0.046078   \n",
       "\n",
       "      Electrical_Mix  Electrical_SBrkr  GarageType_2Types  GarageType_Attchd  \\\n",
       "0          -0.026584          0.300115          -0.065233           0.878758   \n",
       "1          -0.026584          0.300115          -0.065233           0.878758   \n",
       "2          -0.026584          0.300115          -0.065233           0.878758   \n",
       "3          -0.026584          0.300115          -0.065233          -1.137970   \n",
       "4          -0.026584          0.300115          -0.065233           0.878758   \n",
       "...              ...               ...                ...                ...   \n",
       "1411       -0.026584          0.300115          -0.065233           0.878758   \n",
       "1412       -0.026584          0.300115          -0.065233           0.878758   \n",
       "1413       -0.026584          0.300115          -0.065233           0.878758   \n",
       "1414       -0.026584         -3.332051          -0.065233          -1.137970   \n",
       "1415       -0.026584          0.300115          -0.065233           0.878758   \n",
       "\n",
       "      GarageType_Basment  GarageType_BuiltIn  GarageType_CarPort  \\\n",
       "0              -0.116621           -0.254287           -0.079979   \n",
       "1              -0.116621           -0.254287           -0.079979   \n",
       "2              -0.116621           -0.254287           -0.079979   \n",
       "3              -0.116621           -0.254287           -0.079979   \n",
       "4              -0.116621           -0.254287           -0.079979   \n",
       "...                  ...                 ...                 ...   \n",
       "1411           -0.116621           -0.254287           -0.079979   \n",
       "1412           -0.116621           -0.254287           -0.079979   \n",
       "1413           -0.116621           -0.254287           -0.079979   \n",
       "1414           -0.116621           -0.254287           -0.079979   \n",
       "1415           -0.116621           -0.254287           -0.079979   \n",
       "\n",
       "      GarageType_Detchd  GarageType_NoGarage  \n",
       "0             -0.644981            -0.246321  \n",
       "1             -0.644981            -0.246321  \n",
       "2             -0.644981            -0.246321  \n",
       "3              1.550434            -0.246321  \n",
       "4             -0.644981            -0.246321  \n",
       "...                 ...                  ...  \n",
       "1411          -0.644981            -0.246321  \n",
       "1412          -0.644981            -0.246321  \n",
       "1413          -0.644981            -0.246321  \n",
       "1414           1.550434            -0.246321  \n",
       "1415          -0.644981            -0.246321  \n",
       "\n",
       "[1416 rows x 19 columns]"
      ]
     },
     "execution_count": 237,
     "metadata": {},
     "output_type": "execute_result"
    }
   ],
   "source": [
    "pd.DataFrame(data_s,columns=data.columns)"
   ]
  },
  {
   "cell_type": "code",
   "execution_count": null,
   "id": "2daa6b9b",
   "metadata": {},
   "outputs": [],
   "source": []
  }
 ],
 "metadata": {
  "kernelspec": {
   "display_name": "Python 3 (ipykernel)",
   "language": "python",
   "name": "python3"
  },
  "language_info": {
   "codemirror_mode": {
    "name": "ipython",
    "version": 3
   },
   "file_extension": ".py",
   "mimetype": "text/x-python",
   "name": "python",
   "nbconvert_exporter": "python",
   "pygments_lexer": "ipython3",
   "version": "3.9.12"
  }
 },
 "nbformat": 4,
 "nbformat_minor": 5
}
